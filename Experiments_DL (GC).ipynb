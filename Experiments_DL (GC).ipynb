{
 "cells": [
  {
   "cell_type": "markdown",
   "metadata": {
    "id": "HIoNaM-5rkU6"
   },
   "source": [
    "**Neural network experiment**"
   ]
  },
  {
   "cell_type": "markdown",
   "metadata": {
    "id": "4SGhW_-Gygr-"
   },
   "source": [
    "# **import user-specified packages and google drive files**"
   ]
  },
  {
   "cell_type": "code",
   "execution_count": 1,
   "metadata": {
    "colab": {
     "base_uri": "https://localhost:8080/"
    },
    "executionInfo": {
     "elapsed": 712,
     "status": "ok",
     "timestamp": 1652706464974,
     "user": {
      "displayName": "Alexander Stevens",
      "userId": "06895933540823444481"
     },
     "user_tz": -120
    },
    "id": "VUdXFuf774wi",
    "outputId": "58da0202-27aa-45dc-f7c1-b9e03357758b"
   },
   "outputs": [
    {
     "name": "stdout",
     "output_type": "stream",
     "text": [
      "Exception reporting mode: Verbose\n"
     ]
    }
   ],
   "source": [
    "%xmode Verbose"
   ]
  },
  {
   "cell_type": "code",
   "execution_count": 2,
   "metadata": {
    "colab": {
     "base_uri": "https://localhost:8080/",
     "height": 107,
     "resources": {
      "http://localhost:8080/nbextensions/google.colab/files.js": {
       "data": "Ly8gQ29weXJpZ2h0IDIwMTcgR29vZ2xlIExMQwovLwovLyBMaWNlbnNlZCB1bmRlciB0aGUgQXBhY2hlIExpY2Vuc2UsIFZlcnNpb24gMi4wICh0aGUgIkxpY2Vuc2UiKTsKLy8geW91IG1heSBub3QgdXNlIHRoaXMgZmlsZSBleGNlcHQgaW4gY29tcGxpYW5jZSB3aXRoIHRoZSBMaWNlbnNlLgovLyBZb3UgbWF5IG9idGFpbiBhIGNvcHkgb2YgdGhlIExpY2Vuc2UgYXQKLy8KLy8gICAgICBodHRwOi8vd3d3LmFwYWNoZS5vcmcvbGljZW5zZXMvTElDRU5TRS0yLjAKLy8KLy8gVW5sZXNzIHJlcXVpcmVkIGJ5IGFwcGxpY2FibGUgbGF3IG9yIGFncmVlZCB0byBpbiB3cml0aW5nLCBzb2Z0d2FyZQovLyBkaXN0cmlidXRlZCB1bmRlciB0aGUgTGljZW5zZSBpcyBkaXN0cmlidXRlZCBvbiBhbiAiQVMgSVMiIEJBU0lTLAovLyBXSVRIT1VUIFdBUlJBTlRJRVMgT1IgQ09ORElUSU9OUyBPRiBBTlkgS0lORCwgZWl0aGVyIGV4cHJlc3Mgb3IgaW1wbGllZC4KLy8gU2VlIHRoZSBMaWNlbnNlIGZvciB0aGUgc3BlY2lmaWMgbGFuZ3VhZ2UgZ292ZXJuaW5nIHBlcm1pc3Npb25zIGFuZAovLyBsaW1pdGF0aW9ucyB1bmRlciB0aGUgTGljZW5zZS4KCi8qKgogKiBAZmlsZW92ZXJ2aWV3IEhlbHBlcnMgZm9yIGdvb2dsZS5jb2xhYiBQeXRob24gbW9kdWxlLgogKi8KKGZ1bmN0aW9uKHNjb3BlKSB7CmZ1bmN0aW9uIHNwYW4odGV4dCwgc3R5bGVBdHRyaWJ1dGVzID0ge30pIHsKICBjb25zdCBlbGVtZW50ID0gZG9jdW1lbnQuY3JlYXRlRWxlbWVudCgnc3BhbicpOwogIGVsZW1lbnQudGV4dENvbnRlbnQgPSB0ZXh0OwogIGZvciAoY29uc3Qga2V5IG9mIE9iamVjdC5rZXlzKHN0eWxlQXR0cmlidXRlcykpIHsKICAgIGVsZW1lbnQuc3R5bGVba2V5XSA9IHN0eWxlQXR0cmlidXRlc1trZXldOwogIH0KICByZXR1cm4gZWxlbWVudDsKfQoKLy8gTWF4IG51bWJlciBvZiBieXRlcyB3aGljaCB3aWxsIGJlIHVwbG9hZGVkIGF0IGEgdGltZS4KY29uc3QgTUFYX1BBWUxPQURfU0laRSA9IDEwMCAqIDEwMjQ7CgpmdW5jdGlvbiBfdXBsb2FkRmlsZXMoaW5wdXRJZCwgb3V0cHV0SWQpIHsKICBjb25zdCBzdGVwcyA9IHVwbG9hZEZpbGVzU3RlcChpbnB1dElkLCBvdXRwdXRJZCk7CiAgY29uc3Qgb3V0cHV0RWxlbWVudCA9IGRvY3VtZW50LmdldEVsZW1lbnRCeUlkKG91dHB1dElkKTsKICAvLyBDYWNoZSBzdGVwcyBvbiB0aGUgb3V0cHV0RWxlbWVudCB0byBtYWtlIGl0IGF2YWlsYWJsZSBmb3IgdGhlIG5leHQgY2FsbAogIC8vIHRvIHVwbG9hZEZpbGVzQ29udGludWUgZnJvbSBQeXRob24uCiAgb3V0cHV0RWxlbWVudC5zdGVwcyA9IHN0ZXBzOwoKICByZXR1cm4gX3VwbG9hZEZpbGVzQ29udGludWUob3V0cHV0SWQpOwp9CgovLyBUaGlzIGlzIHJvdWdobHkgYW4gYXN5bmMgZ2VuZXJhdG9yIChub3Qgc3VwcG9ydGVkIGluIHRoZSBicm93c2VyIHlldCksCi8vIHdoZXJlIHRoZXJlIGFyZSBtdWx0aXBsZSBhc3luY2hyb25vdXMgc3RlcHMgYW5kIHRoZSBQeXRob24gc2lkZSBpcyBnb2luZwovLyB0byBwb2xsIGZvciBjb21wbGV0aW9uIG9mIGVhY2ggc3RlcC4KLy8gVGhpcyB1c2VzIGEgUHJvbWlzZSB0byBibG9jayB0aGUgcHl0aG9uIHNpZGUgb24gY29tcGxldGlvbiBvZiBlYWNoIHN0ZXAsCi8vIHRoZW4gcGFzc2VzIHRoZSByZXN1bHQgb2YgdGhlIHByZXZpb3VzIHN0ZXAgYXMgdGhlIGlucHV0IHRvIHRoZSBuZXh0IHN0ZXAuCmZ1bmN0aW9uIF91cGxvYWRGaWxlc0NvbnRpbnVlKG91dHB1dElkKSB7CiAgY29uc3Qgb3V0cHV0RWxlbWVudCA9IGRvY3VtZW50LmdldEVsZW1lbnRCeUlkKG91dHB1dElkKTsKICBjb25zdCBzdGVwcyA9IG91dHB1dEVsZW1lbnQuc3RlcHM7CgogIGNvbnN0IG5leHQgPSBzdGVwcy5uZXh0KG91dHB1dEVsZW1lbnQubGFzdFByb21pc2VWYWx1ZSk7CiAgcmV0dXJuIFByb21pc2UucmVzb2x2ZShuZXh0LnZhbHVlLnByb21pc2UpLnRoZW4oKHZhbHVlKSA9PiB7CiAgICAvLyBDYWNoZSB0aGUgbGFzdCBwcm9taXNlIHZhbHVlIHRvIG1ha2UgaXQgYXZhaWxhYmxlIHRvIHRoZSBuZXh0CiAgICAvLyBzdGVwIG9mIHRoZSBnZW5lcmF0b3IuCiAgICBvdXRwdXRFbGVtZW50Lmxhc3RQcm9taXNlVmFsdWUgPSB2YWx1ZTsKICAgIHJldHVybiBuZXh0LnZhbHVlLnJlc3BvbnNlOwogIH0pOwp9CgovKioKICogR2VuZXJhdG9yIGZ1bmN0aW9uIHdoaWNoIGlzIGNhbGxlZCBiZXR3ZWVuIGVhY2ggYXN5bmMgc3RlcCBvZiB0aGUgdXBsb2FkCiAqIHByb2Nlc3MuCiAqIEBwYXJhbSB7c3RyaW5nfSBpbnB1dElkIEVsZW1lbnQgSUQgb2YgdGhlIGlucHV0IGZpbGUgcGlja2VyIGVsZW1lbnQuCiAqIEBwYXJhbSB7c3RyaW5nfSBvdXRwdXRJZCBFbGVtZW50IElEIG9mIHRoZSBvdXRwdXQgZGlzcGxheS4KICogQHJldHVybiB7IUl0ZXJhYmxlPCFPYmplY3Q+fSBJdGVyYWJsZSBvZiBuZXh0IHN0ZXBzLgogKi8KZnVuY3Rpb24qIHVwbG9hZEZpbGVzU3RlcChpbnB1dElkLCBvdXRwdXRJZCkgewogIGNvbnN0IGlucHV0RWxlbWVudCA9IGRvY3VtZW50LmdldEVsZW1lbnRCeUlkKGlucHV0SWQpOwogIGlucHV0RWxlbWVudC5kaXNhYmxlZCA9IGZhbHNlOwoKICBjb25zdCBvdXRwdXRFbGVtZW50ID0gZG9jdW1lbnQuZ2V0RWxlbWVudEJ5SWQob3V0cHV0SWQpOwogIG91dHB1dEVsZW1lbnQuaW5uZXJIVE1MID0gJyc7CgogIGNvbnN0IHBpY2tlZFByb21pc2UgPSBuZXcgUHJvbWlzZSgocmVzb2x2ZSkgPT4gewogICAgaW5wdXRFbGVtZW50LmFkZEV2ZW50TGlzdGVuZXIoJ2NoYW5nZScsIChlKSA9PiB7CiAgICAgIHJlc29sdmUoZS50YXJnZXQuZmlsZXMpOwogICAgfSk7CiAgfSk7CgogIGNvbnN0IGNhbmNlbCA9IGRvY3VtZW50LmNyZWF0ZUVsZW1lbnQoJ2J1dHRvbicpOwogIGlucHV0RWxlbWVudC5wYXJlbnRFbGVtZW50LmFwcGVuZENoaWxkKGNhbmNlbCk7CiAgY2FuY2VsLnRleHRDb250ZW50ID0gJ0NhbmNlbCB1cGxvYWQnOwogIGNvbnN0IGNhbmNlbFByb21pc2UgPSBuZXcgUHJvbWlzZSgocmVzb2x2ZSkgPT4gewogICAgY2FuY2VsLm9uY2xpY2sgPSAoKSA9PiB7CiAgICAgIHJlc29sdmUobnVsbCk7CiAgICB9OwogIH0pOwoKICAvLyBXYWl0IGZvciB0aGUgdXNlciB0byBwaWNrIHRoZSBmaWxlcy4KICBjb25zdCBmaWxlcyA9IHlpZWxkIHsKICAgIHByb21pc2U6IFByb21pc2UucmFjZShbcGlja2VkUHJvbWlzZSwgY2FuY2VsUHJvbWlzZV0pLAogICAgcmVzcG9uc2U6IHsKICAgICAgYWN0aW9uOiAnc3RhcnRpbmcnLAogICAgfQogIH07CgogIGNhbmNlbC5yZW1vdmUoKTsKCiAgLy8gRGlzYWJsZSB0aGUgaW5wdXQgZWxlbWVudCBzaW5jZSBmdXJ0aGVyIHBpY2tzIGFyZSBub3QgYWxsb3dlZC4KICBpbnB1dEVsZW1lbnQuZGlzYWJsZWQgPSB0cnVlOwoKICBpZiAoIWZpbGVzKSB7CiAgICByZXR1cm4gewogICAgICByZXNwb25zZTogewogICAgICAgIGFjdGlvbjogJ2NvbXBsZXRlJywKICAgICAgfQogICAgfTsKICB9CgogIGZvciAoY29uc3QgZmlsZSBvZiBmaWxlcykgewogICAgY29uc3QgbGkgPSBkb2N1bWVudC5jcmVhdGVFbGVtZW50KCdsaScpOwogICAgbGkuYXBwZW5kKHNwYW4oZmlsZS5uYW1lLCB7Zm9udFdlaWdodDogJ2JvbGQnfSkpOwogICAgbGkuYXBwZW5kKHNwYW4oCiAgICAgICAgYCgke2ZpbGUudHlwZSB8fCAnbi9hJ30pIC0gJHtmaWxlLnNpemV9IGJ5dGVzLCBgICsKICAgICAgICBgbGFzdCBtb2RpZmllZDogJHsKICAgICAgICAgICAgZmlsZS5sYXN0TW9kaWZpZWREYXRlID8gZmlsZS5sYXN0TW9kaWZpZWREYXRlLnRvTG9jYWxlRGF0ZVN0cmluZygpIDoKICAgICAgICAgICAgICAgICAgICAgICAgICAgICAgICAgICAgJ24vYSd9IC0gYCkpOwogICAgY29uc3QgcGVyY2VudCA9IHNwYW4oJzAlIGRvbmUnKTsKICAgIGxpLmFwcGVuZENoaWxkKHBlcmNlbnQpOwoKICAgIG91dHB1dEVsZW1lbnQuYXBwZW5kQ2hpbGQobGkpOwoKICAgIGNvbnN0IGZpbGVEYXRhUHJvbWlzZSA9IG5ldyBQcm9taXNlKChyZXNvbHZlKSA9PiB7CiAgICAgIGNvbnN0IHJlYWRlciA9IG5ldyBGaWxlUmVhZGVyKCk7CiAgICAgIHJlYWRlci5vbmxvYWQgPSAoZSkgPT4gewogICAgICAgIHJlc29sdmUoZS50YXJnZXQucmVzdWx0KTsKICAgICAgfTsKICAgICAgcmVhZGVyLnJlYWRBc0FycmF5QnVmZmVyKGZpbGUpOwogICAgfSk7CiAgICAvLyBXYWl0IGZvciB0aGUgZGF0YSB0byBiZSByZWFkeS4KICAgIGxldCBmaWxlRGF0YSA9IHlpZWxkIHsKICAgICAgcHJvbWlzZTogZmlsZURhdGFQcm9taXNlLAogICAgICByZXNwb25zZTogewogICAgICAgIGFjdGlvbjogJ2NvbnRpbnVlJywKICAgICAgfQogICAgfTsKCiAgICAvLyBVc2UgYSBjaHVua2VkIHNlbmRpbmcgdG8gYXZvaWQgbWVzc2FnZSBzaXplIGxpbWl0cy4gU2VlIGIvNjIxMTU2NjAuCiAgICBsZXQgcG9zaXRpb24gPSAwOwogICAgZG8gewogICAgICBjb25zdCBsZW5ndGggPSBNYXRoLm1pbihmaWxlRGF0YS5ieXRlTGVuZ3RoIC0gcG9zaXRpb24sIE1BWF9QQVlMT0FEX1NJWkUpOwogICAgICBjb25zdCBjaHVuayA9IG5ldyBVaW50OEFycmF5KGZpbGVEYXRhLCBwb3NpdGlvbiwgbGVuZ3RoKTsKICAgICAgcG9zaXRpb24gKz0gbGVuZ3RoOwoKICAgICAgY29uc3QgYmFzZTY0ID0gYnRvYShTdHJpbmcuZnJvbUNoYXJDb2RlLmFwcGx5KG51bGwsIGNodW5rKSk7CiAgICAgIHlpZWxkIHsKICAgICAgICByZXNwb25zZTogewogICAgICAgICAgYWN0aW9uOiAnYXBwZW5kJywKICAgICAgICAgIGZpbGU6IGZpbGUubmFtZSwKICAgICAgICAgIGRhdGE6IGJhc2U2NCwKICAgICAgICB9LAogICAgICB9OwoKICAgICAgbGV0IHBlcmNlbnREb25lID0gZmlsZURhdGEuYnl0ZUxlbmd0aCA9PT0gMCA/CiAgICAgICAgICAxMDAgOgogICAgICAgICAgTWF0aC5yb3VuZCgocG9zaXRpb24gLyBmaWxlRGF0YS5ieXRlTGVuZ3RoKSAqIDEwMCk7CiAgICAgIHBlcmNlbnQudGV4dENvbnRlbnQgPSBgJHtwZXJjZW50RG9uZX0lIGRvbmVgOwoKICAgIH0gd2hpbGUgKHBvc2l0aW9uIDwgZmlsZURhdGEuYnl0ZUxlbmd0aCk7CiAgfQoKICAvLyBBbGwgZG9uZS4KICB5aWVsZCB7CiAgICByZXNwb25zZTogewogICAgICBhY3Rpb246ICdjb21wbGV0ZScsCiAgICB9CiAgfTsKfQoKc2NvcGUuZ29vZ2xlID0gc2NvcGUuZ29vZ2xlIHx8IHt9OwpzY29wZS5nb29nbGUuY29sYWIgPSBzY29wZS5nb29nbGUuY29sYWIgfHwge307CnNjb3BlLmdvb2dsZS5jb2xhYi5fZmlsZXMgPSB7CiAgX3VwbG9hZEZpbGVzLAogIF91cGxvYWRGaWxlc0NvbnRpbnVlLAp9Owp9KShzZWxmKTsK",
       "headers": [
        [
         "content-type",
         "application/javascript"
        ]
       ],
       "ok": true,
       "status": 200,
       "status_text": ""
      }
     }
    },
    "executionInfo": {
     "elapsed": 23137,
     "status": "ok",
     "timestamp": 1652706490528,
     "user": {
      "displayName": "Alexander Stevens",
      "userId": "06895933540823444481"
     },
     "user_tz": -120
    },
    "id": "JaEJuClC1bmA",
    "outputId": "cc1a5fe0-5938-4329-ca61-93295de55a43"
   },
   "outputs": [
    {
     "data": {
      "text/html": [
       "\n",
       "     <input type=\"file\" id=\"files-9222fe80-1434-4d10-9645-767cd27b299c\" name=\"files[]\" multiple disabled\n",
       "        style=\"border:none\" />\n",
       "     <output id=\"result-9222fe80-1434-4d10-9645-767cd27b299c\">\n",
       "      Upload widget is only available when the cell has been executed in the\n",
       "      current browser session. Please rerun this cell to enable.\n",
       "      </output>\n",
       "      <script src=\"/nbextensions/google.colab/files.js\"></script> "
      ],
      "text/plain": [
       "<IPython.core.display.HTML object>"
      ]
     },
     "metadata": {},
     "output_type": "display_data"
    },
    {
     "name": "stdout",
     "output_type": "stream",
     "text": [
      "Saving dataset_confs.py to dataset_confs.py\n",
      "Saving DatasetManager.py to DatasetManager.py\n"
     ]
    }
   ],
   "source": [
    "from google.colab import files\n",
    "uploaded = files.upload()"
   ]
  },
  {
   "cell_type": "code",
   "execution_count": 3,
   "metadata": {
    "executionInfo": {
     "elapsed": 1312,
     "status": "ok",
     "timestamp": 1652706493405,
     "user": {
      "displayName": "Alexander Stevens",
      "userId": "06895933540823444481"
     },
     "user_tz": -120
    },
    "id": "0HYLYcjC1bmB"
   },
   "outputs": [],
   "source": [
    "import dataset_confs\n",
    "from DatasetManager import DatasetManager"
   ]
  },
  {
   "cell_type": "markdown",
   "metadata": {
    "id": "UMxd6y3fIACe"
   },
   "source": [
    "# **import datasets**"
   ]
  },
  {
   "cell_type": "code",
   "execution_count": 4,
   "metadata": {
    "colab": {
     "base_uri": "https://localhost:8080/",
     "height": 73,
     "resources": {
      "http://localhost:8080/nbextensions/google.colab/files.js": {
       "data": "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",
       "headers": [
        [
         "content-type",
         "application/javascript"
        ]
       ],
       "ok": true,
       "status": 200,
       "status_text": ""
      }
     }
    },
    "executionInfo": {
     "elapsed": 17291,
     "status": "ok",
     "timestamp": 1652706512142,
     "user": {
      "displayName": "Alexander Stevens",
      "userId": "06895933540823444481"
     },
     "user_tz": -120
    },
    "id": "AyGegYIGJ_1S",
    "outputId": "f5bd66a8-ec40-4196-de76-0491728d185f"
   },
   "outputs": [
    {
     "data": {
      "text/html": [
       "\n",
       "     <input type=\"file\" id=\"files-63948861-c17d-44b6-acbd-37c2d73913dd\" name=\"files[]\" multiple disabled\n",
       "        style=\"border:none\" />\n",
       "     <output id=\"result-63948861-c17d-44b6-acbd-37c2d73913dd\">\n",
       "      Upload widget is only available when the cell has been executed in the\n",
       "      current browser session. Please rerun this cell to enable.\n",
       "      </output>\n",
       "      <script src=\"/nbextensions/google.colab/files.js\"></script> "
      ],
      "text/plain": [
       "<IPython.core.display.HTML object>"
      ]
     },
     "metadata": {},
     "output_type": "display_data"
    },
    {
     "name": "stdout",
     "output_type": "stream",
     "text": [
      "Saving Production.csv to Production.csv\n"
     ]
    }
   ],
   "source": [
    "from google.colab import files\n",
    "uploaded = files.upload()"
   ]
  },
  {
   "cell_type": "code",
   "execution_count": 5,
   "metadata": {
    "executionInfo": {
     "elapsed": 287,
     "status": "ok",
     "timestamp": 1652706517907,
     "user": {
      "displayName": "Alexander Stevens",
      "userId": "06895933540823444481"
     },
     "user_tz": -120
    },
    "id": "t9mASjC4ziWt"
   },
   "outputs": [],
   "source": [
    "csv_files = {\n",
    "   # \"bpic2011\": [\"BPIC11_f%s\"%formula for formula in range(1,2)],\n",
    "    #\"bpic2015\": [\"BPIC15_%s_f2\"%(municipality) for municipality in range(3,6)],\n",
    "    #\"sepsis_cases\": [\"sepsis_cases_1\", \"sepsis_cases_2\", \"sepsis_cases_4\"],\n",
    "    #\"bpic2012\": [\"bpic2012_O_ACCEPTED#COMPLETE\",\"bpic2012_O_CANCELLED-COMPLETE\",\"bpic2012_0_DECLINED-COMPLETE\"],\n",
    "    \"production\": [\"Production\"],\n",
    "    #\"bpic2017\": [\"BPIC17_O_Accepted\",\"BPIC17_O_Cancelled\",\"BPIC17_0_Refused\"],\n",
    "    #\"traffic_fines\": [\"traffic_fines_%s\"%formula for formula in range(1,3)],\n",
    "    #\"hospital_billing\": [\"hospital_billing_%s\"%suffix for suffix in [2,3]]\n",
    "}\n",
    "files = []\n",
    "for k, v in csv_files.items():\n",
    "    files.extend(v)\n",
    "dataset_ref_to_datasets = {\n",
    "   # \"bpic2011\": [\"bpic2011_f%s\"%formula for formula in range(1,2)],\n",
    "   # \"bpic2015\": [\"bpic2015_%s_f2\"%(municipality) for municipality in range(3,6)],\n",
    "   #\"sepsis_cases\": [\"sepsis_cases_1\", \"sepsis_cases_2\", \"sepsis_cases_4\"],\n",
    "    #\"bpic2012\": [\"bpic2012_accepted\",\"bpic2012_cancelled\",\"bpic2012_declined\"],\n",
    "    \"production\": [\"production\"],\n",
    "    #\"bpic2017\": [\"bpic2017_accepted\",\"bpic2017_cancelled\",\"bpic2017_refused\"],\n",
    "    #\"traffic_fines\": [\"traffic_fines_%s\"%formula for formula in range(1,3)],\n",
    "    #\"hospital_billing\": [\"hospital_billing_%s\"%suffix for suffix in [2,3]]\n",
    "}\n",
    "\n",
    "files = []\n",
    "for k, v in csv_files.items():\n",
    "    files.extend(v)\n",
    "datasets = []\n",
    "for k, v in dataset_ref_to_datasets.items():\n",
    "    datasets.extend(v)\n",
    "res = {datasets[i]: files[i] for i in range(len(datasets))}"
   ]
  },
  {
   "cell_type": "code",
   "execution_count": 6,
   "metadata": {
    "colab": {
     "base_uri": "https://localhost:8080/"
    },
    "executionInfo": {
     "elapsed": 12,
     "status": "ok",
     "timestamp": 1652706518253,
     "user": {
      "displayName": "Alexander Stevens",
      "userId": "06895933540823444481"
     },
     "user_tz": -120
    },
    "id": "qzz7ApNGUvsA",
    "outputId": "9c968d82-6789-4bd1-f726-92e1b5fad422"
   },
   "outputs": [
    {
     "data": {
      "text/plain": [
       "['production']"
      ]
     },
     "execution_count": 6,
     "metadata": {},
     "output_type": "execute_result"
    }
   ],
   "source": [
    "datasets"
   ]
  },
  {
   "cell_type": "code",
   "execution_count": 7,
   "metadata": {
    "colab": {
     "base_uri": "https://localhost:8080/"
    },
    "executionInfo": {
     "elapsed": 11,
     "status": "ok",
     "timestamp": 1652706518802,
     "user": {
      "displayName": "Alexander Stevens",
      "userId": "06895933540823444481"
     },
     "user_tz": -120
    },
    "id": "9kP7FNSDIOzN",
    "outputId": "7de048d6-01ad-4e53-c0fb-fe8cc1701fc5"
   },
   "outputs": [
    {
     "data": {
      "text/plain": [
       "{'production': 'Production'}"
      ]
     },
     "execution_count": 7,
     "metadata": {},
     "output_type": "execute_result"
    }
   ],
   "source": [
    "res"
   ]
  },
  {
   "cell_type": "markdown",
   "metadata": {
    "id": "v0yRQ_ZSMaFG"
   },
   "source": [
    "# **import packages and functions**"
   ]
  },
  {
   "cell_type": "code",
   "execution_count": 8,
   "metadata": {
    "executionInfo": {
     "elapsed": 2649,
     "status": "ok",
     "timestamp": 1652706524763,
     "user": {
      "displayName": "Alexander Stevens",
      "userId": "06895933540823444481"
     },
     "user_tz": -120
    },
    "id": "uwBik9AUO-VZ"
   },
   "outputs": [],
   "source": [
    "# functions and packages\n",
    "import pandas as pd\n",
    "import numpy as np\n",
    "import os\n",
    "import pickle\n",
    "import random\n",
    "from scipy.stats import spearmanr\n",
    "from sklearn.metrics import roc_auc_score\n",
    "from sklearn.base import BaseEstimator, TransformerMixin\n",
    "from pandas.api.types import is_string_dtype\n",
    "from collections import OrderedDict\n",
    "import matplotlib.pyplot as plt\n",
    "plt.style.use('fivethirtyeight')\n",
    "\n",
    "#LSTM\n",
    "from tensorflow.keras.preprocessing.sequence import pad_sequences\n",
    "from tensorflow.keras.layers import Dense, Dropout, Input, Multiply, concatenate, Embedding, LSTM\n",
    "from tensorflow.keras.layers import Bidirectional, TimeDistributed\n",
    "from tensorflow.keras.models import Model\n",
    "from tensorflow.keras.optimizers import Nadam, Adam, SGD, RMSprop\n",
    "from tensorflow.keras.callbacks import EarlyStopping, ReduceLROnPlateau, ModelCheckpoint\n",
    "import tensorflow.keras.utils as ku\n",
    "from tensorflow.keras.regularizers import l2\n",
    "from tensorflow.keras.layers import Softmax, Lambda\n",
    "from tensorflow.keras import backend\n",
    "\n",
    "#CNN\n",
    "from tensorflow.keras.layers import Conv1D"
   ]
  },
  {
   "cell_type": "markdown",
   "metadata": {
    "id": "yDqFdSCNzg87"
   },
   "source": [
    "# **Pickle files**"
   ]
  },
  {
   "cell_type": "code",
   "execution_count": 9,
   "metadata": {
    "colab": {
     "base_uri": "https://localhost:8080/",
     "height": 73,
     "resources": {
      "http://localhost:8080/nbextensions/google.colab/files.js": {
       "data": "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",
       "headers": [
        [
         "content-type",
         "application/javascript"
        ]
       ],
       "ok": true,
       "status": 200,
       "status_text": ""
      }
     }
    },
    "executionInfo": {
     "elapsed": 73331,
     "status": "ok",
     "timestamp": 1652706601179,
     "user": {
      "displayName": "Alexander Stevens",
      "userId": "06895933540823444481"
     },
     "user_tz": -120
    },
    "id": "mVe0gjP9zgki",
    "outputId": "8679b986-755d-406e-d8f8-e0b4b6d8c0f6"
   },
   "outputs": [
    {
     "data": {
      "text/html": [
       "\n",
       "     <input type=\"file\" id=\"files-002d49d4-62cc-4ef5-8a98-2b724bb402ba\" name=\"files[]\" multiple disabled\n",
       "        style=\"border:none\" />\n",
       "     <output id=\"result-002d49d4-62cc-4ef5-8a98-2b724bb402ba\">\n",
       "      Upload widget is only available when the cell has been executed in the\n",
       "      current browser session. Please rerun this cell to enable.\n",
       "      </output>\n",
       "      <script src=\"/nbextensions/google.colab/files.js\"></script> "
      ],
      "text/plain": [
       "<IPython.core.display.HTML object>"
      ]
     },
     "metadata": {},
     "output_type": "display_data"
    },
    {
     "name": "stdout",
     "output_type": "stream",
     "text": [
      "Saving optimal_params_LSTM_production_all_embeddings.pickle to optimal_params_LSTM_production_all_embeddings.pickle\n"
     ]
    }
   ],
   "source": [
    "from google.colab import files\n",
    "uploaded = files.upload()"
   ]
  },
  {
   "cell_type": "markdown",
   "metadata": {
    "id": "iSXBB6FWOyRN"
   },
   "source": [
    "# **Own created functions**"
   ]
  },
  {
   "cell_type": "code",
   "execution_count": 10,
   "metadata": {
    "executionInfo": {
     "elapsed": 563,
     "status": "ok",
     "timestamp": 1652706608020,
     "user": {
      "displayName": "Alexander Stevens",
      "userId": "06895933540823444481"
     },
     "user_tz": -120
    },
    "id": "uH3LRIBHOyap"
   },
   "outputs": [],
   "source": [
    "#functions\n",
    "#https://towardsdatascience.com/using-neural-networks-with-embedding-layers-to-encode-high-cardinality-categorical-variables-c1b872033ba2\n",
    "class ColumnEncoder(BaseEstimator, TransformerMixin):\n",
    "    def __init__(self):\n",
    "        self.columns = None\n",
    "        self.maps = dict()\n",
    "\n",
    "    def transform(self, X):\n",
    "        X_copy = X.copy()\n",
    "        for col in self.columns:\n",
    "            # encode value x of col via dict entry self.maps[col][x]+1 if present, otherwise 0\n",
    "            X_copy.loc[:,col] = X_copy.loc[:,col].apply(lambda x: self.maps[col].get(x, -1)+1)\n",
    "        return X_copy\n",
    "\n",
    "    def inverse_transform(self, X):\n",
    "        X_copy = X.copy()\n",
    "        for col in self.columns:\n",
    "            values = list(self.maps[col].keys())\n",
    "            # find value in ordered list and map out of range values to None\n",
    "            X_copy.loc[:,col] = [values[i-1] if 0<i<=len(values) else None for i in X_copy[col]]\n",
    "        return X_copy\n",
    "\n",
    "    def fit(self, X, y=None):\n",
    "        # only apply to string type columns\n",
    "        self.columns = [col for col in X.columns if is_string_dtype(X[col])]\n",
    "        for col in self.columns:\n",
    "            self.maps[col] = OrderedDict({value: num for num, value in enumerate(sorted(set(X[col])))})\n",
    "        return self\n",
    "\n",
    "def prepare_inputs(X_train, X_test, data):  \n",
    "    global ce\n",
    "    ce = ColumnEncoder()\n",
    "    X_train, X_test = X_train.astype(str), X_test.astype(str)\n",
    "    X_train_enc = ce.fit_transform(X_train)\n",
    "    X_test_enc = ce.transform(X_test)\n",
    "    return X_train_enc, X_test_enc\n",
    "    \n",
    "def numeric_padding(sequences, maxlen=None, value=0):\n",
    "    num_samples = len(sequences)\n",
    "    sample_shape = np.asarray(sequences[0]).shape[1:]\n",
    "    x = np.full((num_samples, maxlen) + sample_shape, value)\n",
    "    for idx, s in enumerate(sequences):\n",
    "        trunc = s[:maxlen]\n",
    "        x[idx, :maxlen] = trunc[0]\n",
    "        \n",
    "def create_index(log_df, column):\n",
    "    \"\"\"Creates an idx for a categorical attribute.\n",
    "    Args:\n",
    "        log_df: dataframe.\n",
    "        column: column name.\n",
    "    Returns:\n",
    "        index of a categorical attribute pairs.\n",
    "    \"\"\"\n",
    "    temp_list = log_df[[column]].values.tolist()\n",
    "    subsec_set = {str((x[0])) for x in temp_list}\n",
    "    subsec_set = sorted(list(subsec_set))\n",
    "    alias = dict()\n",
    "    for i, _ in enumerate(subsec_set):\n",
    "        alias[subsec_set[i]] = i + 1\n",
    "    return alias\n",
    "\n",
    "def groupby_caseID(data, cols):\n",
    "    ans = [pd.DataFrame(y) for x, y in data[cols].groupby('Case ID', as_index=False)]\n",
    "    return ans\n",
    "\n",
    "def remove_punctuations(columns_before):\n",
    "    columns = []\n",
    "    for string in columns_before:\n",
    "        new_string = string.replace(\":\", \"_\")\n",
    "        columns.append(new_string)\n",
    "    return columns\n",
    "\n",
    "#call this function with the name of the right column\n",
    "def create_indexes(i, data):\n",
    "    cat_index = create_index(data, i)\n",
    "    cat_index['Start'] = 0\n",
    "    cat_index['End'] = len(cat_index)\n",
    "    index_cat = {v: k for k, v in cat_index.items()}\n",
    "    cat_weights = ku.to_categorical(sorted(index_cat.keys()), len(cat_index))\n",
    "    no_cols = len(data.groupby([i]))+1\n",
    "    return cat_weights, index_cat, cat_index, no_cols\n",
    "\n",
    "def labels_after_grouping(data_train,data_test):\n",
    "    train_labels = []\n",
    "    for i in range (0,len(data_train)):\n",
    "        temp_label = data_train[i]['label'].iloc[0]\n",
    "        train_labels.append(temp_label)\n",
    "\n",
    "    test_labels = []\n",
    "    for i in range (0,len(data_test)):\n",
    "        temp_label = data_test[i]['label'].iloc[0]\n",
    "        test_labels.append(temp_label)\n",
    "    train_y = [1 if i!='regular' else 0 for i in train_labels]\n",
    "    test_y = [1 if i!='regular' else 0 for i in test_labels]\n",
    "    return train_y, test_y\n",
    "\n",
    "def pad_cat_data(cols, data_train, data_test, maxlen):\n",
    "    \n",
    "    #padding of the different categorical columns\n",
    "    #train paddings\n",
    "    paddings_train = []\n",
    "    for i in cols:\n",
    "        padding= []\n",
    "        for k in range(0,len(data_train)):\n",
    "            temp = []\n",
    "            temp = list(data_train[k][i])\n",
    "            padding.append(temp)\n",
    "        padded = np.array(pad_sequences(padding,maxlen=maxlen, padding='pre', truncating='pre',value=0))\n",
    "        #padded = padded/len(data.groupby([i]))\n",
    "        paddings_train.append(padded)\n",
    "\n",
    "    #test paddings\n",
    "    paddings_test = []\n",
    "    for i in cols:\n",
    "        padding= []\n",
    "        for k in range(0,len(data_test)):\n",
    "            temp = []\n",
    "            temp = list(data_test[k][i])\n",
    "            padding.append(temp)\n",
    "        padded = np.array(pad_sequences(padding,maxlen=maxlen, padding='pre', truncating='pre',value=0))\n",
    "        #padded = padded/len(data.groupby([i]))\n",
    "        paddings_test.append(padded)\n",
    "    return paddings_train, paddings_test\n",
    "\n",
    "def pad_num_data(cols, data_train, data_test, maxlen, dt_train_prefixes, dt_test_prefixes):\n",
    "    pad_train = []\n",
    "    pad_test  = []\n",
    "    for i in cols:\n",
    "        \n",
    "        padding = []\n",
    "        for k in range(0,len(data_train)):\n",
    "            temp_train = []\n",
    "            temp_train = list(data_train[k][i])\n",
    "            padding.append(temp_train)\n",
    "\n",
    "        padded = np.array(pad_sequences(padding,maxlen=maxlen, padding='pre', truncating='pre',value=0))\n",
    "        if dt_train_prefixes[i].max() !=0:\n",
    "           \n",
    "            padded = padded/dt_train_prefixes[i].max()\n",
    "        else:\n",
    "            padded = padded\n",
    "        pad_train.append(padded)\n",
    "   \n",
    "    for i in cols:\n",
    "      \n",
    "        padding = []\n",
    "        for k in range(0,len(data_test)):\n",
    "            temp_test = []\n",
    "            temp_test = list(data_test[k][i])\n",
    "            padding.append(temp_test)\n",
    "      \n",
    "        padded = np.array(pad_sequences(padding,maxlen=maxlen, padding='pre', truncating='pre',value=0))\n",
    "        if dt_test_prefixes[i].max() !=0:\n",
    "            padded = padded/dt_test_prefixes[i].max()\n",
    "        else:\n",
    "            padded = padded\n",
    "        pad_test.append(padded)\n",
    "    return pad_train, pad_test\n",
    "\n",
    "def reshape_num_data(pad_data, cutoff):\n",
    "        pad_num = np.reshape(pad_data, (len(pad_data), cutoff, 1))\n",
    "        return pad_num"
   ]
  },
  {
   "cell_type": "markdown",
   "metadata": {
    "id": "i00WpG-jxewE"
   },
   "source": [
    "# **Attention**"
   ]
  },
  {
   "cell_type": "code",
   "execution_count": 22,
   "metadata": {
    "executionInfo": {
     "elapsed": 346,
     "status": "ok",
     "timestamp": 1652707219491,
     "user": {
      "displayName": "Alexander Stevens",
      "userId": "06895933540823444481"
     },
     "user_tz": -120
    },
    "id": "pI-3_ZdzxiEV"
   },
   "outputs": [],
   "source": [
    "def attention():\n",
    "    #  Generation of predictions\n",
    "    layer_names = [layer.name for layer in model.layers]\n",
    "    print(layer_names)\n",
    "    ac_output_weights, ac_bias = model.get_layer(name='final_output').get_weights()\n",
    "    model_with_attention = Model(model.inputs, model.outputs +\\\n",
    "                                                  [model.get_layer(name='alpha_softmax').output,\\\n",
    "                                                   model.get_layer(name='beta_dense_0').output])\n",
    "    temporal_vectors = []\n",
    "    variable_vectors=[]\n",
    "    predictions = []\n",
    "    for i in range(len(paddings_train[0])):\n",
    "        x_ngram_list = []\n",
    "        for j in range(0,len(paddings_train)):\n",
    "                x_ngram = paddings_train[j][i].reshape((1,cutoff))\n",
    "                x_ngram_list.append(x_ngram)\n",
    "\n",
    "        for k in range(0,len(pad_train)):\n",
    "                x_ngram = np.reshape(pad_train[k], (len(pad_train[k]), cutoff, 1))[i].reshape(1,cutoff,1)\n",
    "                x_ngram_list.append(x_ngram)\n",
    "\n",
    "        #extend list and add time \n",
    "        x_ngram_list.append(padded_time[i].reshape(1,cutoff,1))\n",
    "\n",
    "        proba, alphas, betas = model_with_attention.predict(x_ngram_list)\n",
    "        proba = np.squeeze(proba)\n",
    "        alphas = np.squeeze(alphas)\n",
    "        temporal_att_vec = alphas\n",
    "        assert (np.sum(temporal_att_vec) - 1.0) < 1e-5\n",
    "\n",
    "        #print(temporal_att_vec)\n",
    "        temporal_vectors.append(temporal_att_vec)\n",
    "\n",
    "        #get the beta value\n",
    "        betas = np.squeeze(betas)\n",
    "        idx = np.argmax(alphas)\n",
    "\n",
    "        #print(idx)\n",
    "        beta_val = betas[idx]\n",
    "\n",
    "        dim = 0\n",
    "        emb_list = []\n",
    "        for i in range(0,len(paddings_train)):\n",
    "            ip = int(x_ngram_list[i][0][idx])\n",
    "            i = cat_cols[i]\n",
    "            i = i.replace(':','_')\n",
    "            i = i.replace(' ','_')\n",
    "            emb_weights = model.get_layer(name='embed_'+i).get_weights()[0]\n",
    "            emb = emb_weights[ip]\n",
    "            emb_list.append(emb)\n",
    "            dim += emb.shape[0]\n",
    "\n",
    "\n",
    "        for i in range(0,len(pad_train)):\n",
    "            x_ngram = (reshape_num_data(pad_train[k], cutoff))[i].reshape(1,cutoff,1)\n",
    "            num = np.squeeze(x_ngram)[idx]\n",
    "            emb_list.append(num)\n",
    "            dim +=1\n",
    "        #if cls_method =='LSTM':\n",
    "        if(betas.shape[1]==dim+1):\n",
    "            x_t_ngram = padded_time[i].reshape(1, cutoff, 1)\n",
    "            time_v = np.squeeze(x_t_ngram)[idx]\n",
    "            emb_list.append(time_v)\n",
    "            emb = np.concatenate(tuple(emb_list), axis=None)\n",
    "            #print('beta_val',beta_val.shape)\n",
    "            beta_scaled = np.multiply(beta_val,emb)\n",
    "            variable_attn = alphas[idx] * beta_scaled\n",
    "            variable_vectors.append(variable_attn)\n",
    "            predictions.append(proba)\n",
    "       \n",
    "    if(len(variable_vectors)>0):\n",
    "        var_final = np.mean(np.array(variable_vectors), axis=0)\n",
    "        cat_labels_list = []\n",
    "        current_length = 0\n",
    "        for i in dt_train_prefixes[cat_cols].columns:\n",
    "            cat_weights, index_cat, cat_index, no_cols = create_indexes(i, data)\n",
    "            cat_labels = [index_cat[key] for key in sorted(index_cat.keys())]\n",
    "            cat_labels_list.extend(cat_labels)\n",
    "\n",
    "        for i in dt_train_prefixes[numerical_columns].columns:\n",
    "            cat_labels_list.append(i)\n",
    "        cat_labels_list.append('time')\n",
    "        \n",
    "        df_var=pd.DataFrame({'attributes':var_final, 'attribute_values':cat_labels_list})\n",
    "        print(df_var)\n",
    "        df_var.plot.bar(y='attributes', x='attribute_values',\n",
    "                                    title='Attention of the event attributes.', figsize=(10,7))\n",
    "\n",
    "        #plot_history( plt, file_name + 'variable_attn', path )\n",
    "\n",
    "        # Hide grid lines\n",
    "        plt.grid(False)\n",
    "        plt.show()\n",
    "        attention_values = []\n",
    "        for i in dt_train_prefixes[cat_cols].columns:\n",
    "            cat_weights, index_cat, cat_index, no_cols = create_indexes(i, data)\n",
    "            new_length = len([index_cat[key] for key in sorted(index_cat.keys())])\n",
    "            attention_value = abs(df_var['attributes'].iloc[current_length:current_length+new_length]).sum(skipna = True)\n",
    "            attention_values.append(attention_value)\n",
    "            current_length += new_length\n",
    "      \n",
    "        for i in dt_train_prefixes[numerical_columns].columns:\n",
    "            attention_values.append(abs(df_var['attributes'].iloc[current_length:current_length+1]).sum(skipna = True))\n",
    "            current_length+1\n",
    "\n",
    "        attention_values.append(abs(df_var['attributes'].iloc[current_length:current_length+1]).sum(skipna = True))\n",
    "\n",
    "    return df_var, attention_values"
   ]
  },
  {
   "cell_type": "markdown",
   "metadata": {
    "id": "t6qDWGGTxptx"
   },
   "source": [
    "# **Parsimony**"
   ]
  },
  {
   "cell_type": "code",
   "execution_count": 12,
   "metadata": {
    "executionInfo": {
     "elapsed": 371,
     "status": "ok",
     "timestamp": 1652706733171,
     "user": {
      "displayName": "Alexander Stevens",
      "userId": "06895933540823444481"
     },
     "user_tz": -120
    },
    "id": "HhodjI2f_s5F"
   },
   "outputs": [],
   "source": [
    "def var_importance(model, model_inputs, sample_length):\n",
    "    effects_saved = []\n",
    "    x = data_sample(model_inputs, sample_length)\n",
    "    orig_out = model.predict(x)\n",
    "    for i in range(0,len(cat_cols)):  # iterate over the 5 cat features\n",
    "        print(\" \")\n",
    "        new_x = x.copy()\n",
    "        perturbations_list = []\n",
    "        for j in range(0,sample_length):\n",
    "            prefix_array = np.random.random((maxlen,))\n",
    "            perturbations_list.append(prefix_array)\n",
    "        new_x[i] = np.array(perturbations_list)\n",
    "        perturbed_out = model.predict(new_x)\n",
    "        effect = ((orig_out - perturbed_out) ** 2).mean() ** 0.5\n",
    "        print(f'Variable {i+1}, perturbation effect: {effect:.4f}')\n",
    "        effects_saved.append(effect)\n",
    "    for k in range(i+1,len(model_inputs)):  # iterate over the 2 num features\n",
    "        print(k)\n",
    "        new_x = x.copy()\n",
    "        perturbations_list = []\n",
    "        for j in range(0,sample_length):\n",
    "            prefix_array = np.random.random((maxlen,))\n",
    "            perturbations_list.append(prefix_array)\n",
    "        perturbation_array = np.array(perturbations_list)\n",
    "        perturbations_reshaped = perturbation_array.reshape(sample_length, cutoff, 1)\n",
    "        new_x[k] = perturbations_reshaped\n",
    "        perturbed_out = model.predict(new_x)\n",
    "        effect = ((orig_out - perturbed_out) ** 2).mean() ** 0.5\n",
    "        print(f'Variable {(k+1)}, perturbation effect: {effect:.4f}')    \n",
    "        effects_saved.append(effect)\n",
    "    return effects_saved "
   ]
  },
  {
   "cell_type": "code",
   "execution_count": 13,
   "metadata": {
    "executionInfo": {
     "elapsed": 7,
     "status": "ok",
     "timestamp": 1652706733173,
     "user": {
      "displayName": "Alexander Stevens",
      "userId": "06895933540823444481"
     },
     "user_tz": -120
    },
    "id": "7jbZPwl2_2W3"
   },
   "outputs": [],
   "source": [
    "def parsimony(attention_values):\n",
    "  #feature importance of original model\n",
    "  feature_importance=pd.DataFrame()\n",
    "  columns = cat_cols+numerical_columns\n",
    "  columns.append('time')\n",
    "  feature_importance['variable']=columns\n",
    "  feature_importance['coefficients'] = attention_values\n",
    "  \n",
    "  count_event = 0\n",
    "  count_case = 0\n",
    "  count_control = 0\n",
    "\n",
    "  # event columns\n",
    "  model_event = feature_importance[feature_importance['variable'].isin(event_columns)]\n",
    "  model_event = model_event['coefficients'].tolist()\n",
    "  #case columns\n",
    "  model_case= feature_importance[feature_importance['variable'].isin(case_columns)]\n",
    "  model_case = model_case['coefficients'].tolist()\n",
    "  count_case += model_case.count(0.0)\n",
    "  #controlflow columns\n",
    "  model_control= feature_importance[feature_importance['variable'].isin(controlflow_columns)]\n",
    "  model_control = model_control['coefficients'].tolist()\n",
    "  count_control += model_control.count(0.0)\n",
    "  parsimony_event = (len_event-count_event)/len_event\n",
    "  parsimony_case = (len_case-count_case)/len_case \n",
    "  parsimony_control = (len_control-count_control)/len_control\n",
    "  print('event attributes and percentage of event attributes:',len_event-count_event, parsimony_event)\n",
    "  print('case attributes and percentage of case attributes:', len_case-count_case, parsimony_case)\n",
    "  print('controlflow attributes and percentage of controlflow attributes', len_control-count_control, parsimony_control)\n",
    "\n",
    "  return parsimony_event, parsimony_case, parsimony_control\n"
   ]
  },
  {
   "cell_type": "markdown",
   "metadata": {
    "id": "3m4jrc3axxDj"
   },
   "source": [
    "# **Functional complexity**"
   ]
  },
  {
   "cell_type": "code",
   "execution_count": 14,
   "metadata": {
    "executionInfo": {
     "elapsed": 6,
     "status": "ok",
     "timestamp": 1652706734012,
     "user": {
      "displayName": "Alexander Stevens",
      "userId": "06895933540823444481"
     },
     "user_tz": -120
    },
    "id": "JDT1w0aNYH7R"
   },
   "outputs": [],
   "source": [
    "def create_test_data(dt_test_prefixes):\n",
    "\n",
    "  #cat columns integerencoded\n",
    "  cat_cols = cls_encoder_args['dynamic_cat_cols']+cls_encoder_args['static_cat_cols']\n",
    "  dt_test_prefixes[cat_cols] = dt_test_prefixes[cat_cols].astype(str)\n",
    "  dt_test_prefixes[cat_cols] = ce.transform(dt_test_prefixes[cat_cols])\n",
    "  dt_test_prefixes[cat_cols] = dt_test_prefixes[cat_cols]+1\n",
    "  \n",
    "  #append caseId and label\n",
    "  cat_cols.append('Case ID')\n",
    "  cat_cols.append('label')\n",
    "  #groupby case ID\n",
    "  ans_test = groupby_caseID(dt_test_prefixes, cat_cols)\n",
    "\n",
    "  #remove then back\n",
    "  cat_cols.remove('label')\n",
    "  cat_cols.remove('Case ID')\n",
    "  \n",
    "  #pad cat columns\n",
    "  paddings_test = []\n",
    "  for i in cat_cols:\n",
    "        padding= []\n",
    "        for k in range(0,len(ans_test)):\n",
    "            temp = []\n",
    "            temp = list(ans_test[k][i])\n",
    "            padding.append(temp)\n",
    "        padded = np.array(pad_sequences(padding,maxlen=maxlen, padding='pre', truncating='pre',value=0))\n",
    "        paddings_test.append(padded)\n",
    "  \n",
    "  #NUMERICAL COLUMNS\n",
    "  numerical_columns = cls_encoder_args['dynamic_num_cols']+cls_encoder_args['static_num_cols']\n",
    "  numerical_columns.remove('timesincelastevent')\n",
    " \n",
    "  numerical_columns.append('Case ID')\n",
    "  ans_test2 = groupby_caseID(dt_test_prefixes, numerical_columns )\n",
    "  numerical_columns.remove('Case ID')\n",
    "  pad_test  = []\n",
    "  \n",
    "  for i in numerical_columns:\n",
    "        padding = []\n",
    "        for k in range(0,len(ans_test2)):\n",
    "            temp_test = []\n",
    "            temp_test = list(ans_test2[k][i])\n",
    "            padding.append(temp_test)\n",
    "        padded = np.array(pad_sequences(padding,maxlen=maxlen, padding='pre', truncating='pre',value=0))\n",
    "        if dt_test_prefixes[i].max() !=0:\n",
    "            padded = padded/dt_test_prefixes[i].max()\n",
    "        else:\n",
    "            padded = padded\n",
    "        pad_test.append(padded)\n",
    "  \n",
    "  #TIME COLUMN\n",
    "  ans_time_test = groupby_caseID(dt_test_prefixes,['timesincelastevent', 'Case ID'])\n",
    "  cols = ['timesincelastevent'] \n",
    "  pad_time_test = []\n",
    "  for i in cols:\n",
    "        padding = []\n",
    "        for k in range(0,len(ans_time_test)):\n",
    "            temp_test = []\n",
    "            temp_test = list(ans_time_test[k][i])\n",
    "            padding.append(temp_test)\n",
    "\n",
    "        padded = np.array(pad_sequences(padding,maxlen=maxlen, padding='pre', truncating='pre',value=0))\n",
    "        if dt_test_prefixes[i].max() !=0:\n",
    "            padded = padded/dt_test_prefixes[i].max()\n",
    "        else:\n",
    "            padded = padded\n",
    "        pad_time_test.append(padded)\n",
    "  \n",
    "  padded_time_test=  reshape_num_data(pad_time_test[0], cutoff)\n",
    "            \n",
    "  return pad_test, paddings_test, padded_time_test"
   ]
  },
  {
   "cell_type": "code",
   "execution_count": 14,
   "metadata": {
    "executionInfo": {
     "elapsed": 5,
     "status": "ok",
     "timestamp": 1652706734013,
     "user": {
      "displayName": "Alexander Stevens",
      "userId": "06895933540823444481"
     },
     "user_tz": -120
    },
    "id": "nWnfF0tXYH-p"
   },
   "outputs": [],
   "source": []
  },
  {
   "cell_type": "code",
   "execution_count": 15,
   "metadata": {
    "executionInfo": {
     "elapsed": 422,
     "status": "ok",
     "timestamp": 1652706734431,
     "user": {
      "displayName": "Alexander Stevens",
      "userId": "06895933540823444481"
     },
     "user_tz": -120
    },
    "id": "XIwf4nZ0x0uv"
   },
   "outputs": [],
   "source": [
    "def distance(lista, listb):\n",
    "    runsum = 0.0\n",
    "    for a, b in zip(lista, listb):\n",
    "        # square the distance of each\n",
    "        #  then add them back into the sum\n",
    "        runsum += abs(b - a)   \n",
    "\n",
    "    # square root it\n",
    "    return runsum \n",
    "\n",
    "def functional_complexity(test_data, n_instances):\n",
    "    NF_event=0\n",
    "    NF_case=0\n",
    "    NF_control=0\n",
    "    new_model_inputs_test = []\n",
    "    \n",
    "    \n",
    "    #the original prediction, flattened\n",
    "    pred1 = model.predict(model_inputs_test)\n",
    "    \n",
    "    lst3 = []\n",
    "    lst3.extend(pred1)\n",
    "    flat_pred1 = [round(item) for sublist in lst3 for item in sublist]\n",
    "      \n",
    "    ###EVENT COLUMNS###\n",
    "    print('event columns')\n",
    "    result2 = test_data.copy()\n",
    "\n",
    "    for j in event_columns:\n",
    "        new_items = []\n",
    "        permuted_values  = set(result2[j].values)\n",
    "        for i in range(0,n_instances):\n",
    "            value = result2[j].iloc[i]\n",
    "            permuted_list = np.setdiff1d(list(permuted_values),[value])\n",
    "            if len(permuted_list)<1:\n",
    "                random_value = value\n",
    "            else:\n",
    "                random_value = random.choice(permuted_list)\n",
    "            new_items.append(random_value)\n",
    "        \n",
    "        result2[j] = new_items\n",
    " \n",
    "    new_pad_test, new_paddings_test, new_padded_time_test = create_test_data(result2)\n",
    "        \n",
    "     #add the permuted padded data to the new_model_inputs list\n",
    "    for i in range(0,len(new_paddings_test)):\n",
    "        new_model_inputs_test.append(new_paddings_test[i])\n",
    "\n",
    "    for i in range(0,len(pad_test)):\n",
    "        new_model_inputs_test.append(reshape_num_data(new_pad_test[i], cutoff))\n",
    "    \n",
    "    #add padded time\n",
    "    new_model_inputs_test.append(new_padded_time_test)\n",
    "\n",
    "   \n",
    "    pred2 = model.predict(new_model_inputs_test)\n",
    "    lst3 = []\n",
    "    lst3.extend(pred2)\n",
    "    flat_pred2 = [round(item) for sublist in lst3 for item in sublist]\n",
    "  \n",
    "    \n",
    "    NF_event = distance(flat_pred1, flat_pred2)\n",
    "    print(NF_event, n_instances)\n",
    "    FC_event = NF_event/(n_instances)\n",
    "    print('FC_event: ', FC_event)\n",
    "\n",
    "    ###CASE COLUMNS###\n",
    "    print('case columns')\n",
    "    result2 = test_data.copy()\n",
    "    new_model_inputs_test = []\n",
    "    for j in case_columns:\n",
    "        new_items = []\n",
    "        permuted_values  = set(result2[j].values)\n",
    "        for i in range(0,n_instances):\n",
    "            value = result2[j].iloc[i]\n",
    "            permuted_list = np.setdiff1d(list(permuted_values),[value])\n",
    "            if len(permuted_list)<1:\n",
    "                random_value = value\n",
    "            else:\n",
    "                random_value = random.choice(permuted_list)\n",
    "            new_items.append(random_value)\n",
    "        \n",
    "        result2[j] = new_items\n",
    "\n",
    "    new_pad_test, new_paddings_test, new_padded_time_test = create_test_data(result2)\n",
    "        \n",
    "     #add the permuted padded data to the new_model_inputs list\n",
    "    for i in range(0,len(new_paddings_test)):\n",
    "        new_model_inputs_test.append(new_paddings_test[i])\n",
    "\n",
    "    for i in range(0,len(pad_test)):\n",
    "        new_model_inputs_test.append(reshape_num_data(new_pad_test[i], cutoff))\n",
    "    \n",
    "    #add padded time\n",
    "    new_model_inputs_test.append(new_padded_time_test)\n",
    "\n",
    "    pred2 = model.predict(new_model_inputs_test) \n",
    "   \n",
    "    lst3 = []\n",
    "    lst3.extend(pred2)\n",
    "    flat_pred3 = [round(item) for sublist in lst3 for item in sublist]\n",
    "  \n",
    "    \n",
    "    NF_case = distance(flat_pred1, flat_pred3)\n",
    "    print(NF_case, n_instances)\n",
    "    FC_case = NF_case/(n_instances)\n",
    "    print('FC_case: ', FC_case)\n",
    "    \n",
    "    \n",
    "    #CONTROLFLOW COLUMNS###\n",
    "    print('control columns')\n",
    "    result2 = test_data.copy()\n",
    "    new_model_inputs_test = []\n",
    "\n",
    "    for j in controlflow_columns:\n",
    "        new_items = []\n",
    "        permuted_values  = set(result2[j].values)\n",
    "        for i in range(0,n_instances):\n",
    "            value = result2[j].iloc[i]\n",
    "            permuted_list = np.setdiff1d(list(permuted_values),[value])\n",
    "            if len(permuted_list)<1:\n",
    "                random_value = value\n",
    "            else:\n",
    "                random_value = random.choice(permuted_list)\n",
    "            new_items.append(random_value)\n",
    "        \n",
    "        result2[j] = new_items\n",
    "\n",
    "    new_pad_test, new_paddings_test, new_padded_time_test = create_test_data(result2)\n",
    "        \n",
    "     #add the permuted padded data to the new_model_inputs list\n",
    "    for i in range(0,len(new_paddings_test)):\n",
    "        new_model_inputs_test.append(new_paddings_test[i])\n",
    "\n",
    "    for i in range(0,len(pad_test)):\n",
    "        new_model_inputs_test.append(reshape_num_data(new_pad_test[i], cutoff))\n",
    "    \n",
    "    #add padded time\n",
    "    new_model_inputs_test.append(new_padded_time_test)\n",
    "\n",
    "    pred2 = model.predict(new_model_inputs_test)\n",
    "  \n",
    "    lst3 = []\n",
    "    lst3.extend(pred2)\n",
    "    flat_pred4 = [round(item) for sublist in lst3 for item in sublist]\n",
    "  \n",
    "    \n",
    "    NF_control = distance(flat_pred1, flat_pred4)\n",
    "    print(NF_control, n_instances)\n",
    "    FC_control = NF_control/(n_instances)\n",
    "    print('FC_control: ', FC_control)\n",
    "    \n",
    "    return FC_event, FC_case, FC_control"
   ]
  },
  {
   "cell_type": "markdown",
   "metadata": {
    "id": "vTmgzrV9x5vk"
   },
   "source": [
    "# **Monotonicity**"
   ]
  },
  {
   "cell_type": "code",
   "execution_count": 16,
   "metadata": {
    "executionInfo": {
     "elapsed": 6,
     "status": "ok",
     "timestamp": 1652706735169,
     "user": {
      "displayName": "Alexander Stevens",
      "userId": "06895933540823444481"
     },
     "user_tz": -120
    },
    "id": "hk0Mf6jSx54Z"
   },
   "outputs": [],
   "source": [
    "def numbers_list():\n",
    "    numbers = []\n",
    "    for i in cat_cols:\n",
    "        no_cols = len(data.groupby([i]))+1\n",
    "        numbers.append(no_cols)\n",
    "\n",
    "    for i in numerical_columns:\n",
    "        numbers.append(1)\n",
    "\n",
    "    #time layer\n",
    "    numbers.append(1)\n",
    "    return numbers\n",
    "\n",
    "def data_sample(model_inputs, sample_length):\n",
    "    sample_data = []\n",
    "    for i in range(0, len(model_inputs)):\n",
    "        sample_data.append(model_inputs[i][0:sample_length])\n",
    "    return sample_data\n",
    "\n",
    "\n",
    "def monotonicity(attention_values, effects_saved):\n",
    "    len(attention_values)\n",
    "    # prepare data\n",
    "    coef, p = spearmanr(attention_values, effects_saved)\n",
    "    print('lengths', len(attention_values), len(effects_saved))\n",
    "    print('Spearmans correlation coefficient: %.3f' % coef)\n",
    "    # interpret the significance\n",
    "    alpha = 0.05\n",
    "    if p > alpha:\n",
    "        print('Samples are uncorrelated (fail to reject H0) p=%.3f' % p)\n",
    "    else:\n",
    "        print('Samples are correlated (reject H0) p=%.3f' % p)\n",
    "\n",
    "    #feature importance of original model\n",
    "    feature_importance=pd.DataFrame()\n",
    "    columns = cat_cols + numerical_columns\n",
    "    columns.append('time')\n",
    "    feature_importance['columns']=columns\n",
    "    feature_importance['importances'] = effects_saved\n",
    "    attention_importances=pd.DataFrame()\n",
    "    attention_importances['columns']=columns\n",
    "    attention_importances['importances_attention'] = attention_values\n",
    "\n",
    "    #resulting frame\n",
    "    resulting_frame = pd.concat([attention_importances, feature_importance], join='inner', axis=1)\n",
    "    resulting_frame.sort_values(by='importances',ascending=False,inplace=True)\n",
    "\n",
    "     #top 10 of attention values importances and extract which columns are in it\n",
    "    attention_importances.sort_values(by='importances_attention',ascending=False,inplace=True)\n",
    "    attention_top_10 = attention_importances[:10]\n",
    "    #attention_event\n",
    "    attention_event = len(attention_top_10[attention_top_10['columns'].isin(event_columns)])\n",
    "    #attention_case\n",
    "    attention_case = len(attention_top_10[attention_top_10['columns'].isin(case_columns)])\n",
    "    #attention_control\n",
    "    attention_control = len(attention_top_10[attention_top_10['columns'].isin(controlflow_columns)])\n",
    "    \n",
    "    #similar for original model\n",
    "    feature_importance.sort_values(by='importances',ascending=False,inplace=True)\n",
    "    feature_top_10 = feature_importance[:10]\n",
    "    #feature-event\n",
    "    feature_event = len(feature_top_10[feature_top_10['columns'].isin(event_columns)])\n",
    "    #feature-case\n",
    "    feature_case = len(feature_top_10[feature_top_10['columns'].isin(case_columns)])\n",
    "    #feature_control\n",
    "    feature_control = len(feature_top_10[feature_top_10['columns'].isin(controlflow_columns)])\n",
    "\n",
    "\n",
    "    return (coef, attention_event, attention_case, attention_control, feature_event, feature_case, feature_control)"
   ]
  },
  {
   "cell_type": "markdown",
   "metadata": {
    "id": "Xx3FVtgkOgyq"
   },
   "source": [
    "# **parameters**"
   ]
  },
  {
   "cell_type": "code",
   "execution_count": 17,
   "metadata": {
    "executionInfo": {
     "elapsed": 6,
     "status": "ok",
     "timestamp": 1652706736719,
     "user": {
      "displayName": "Alexander Stevens",
      "userId": "06895933540823444481"
     },
     "user_tz": -120
    },
    "id": "Cnlhy3XIOgof"
   },
   "outputs": [],
   "source": [
    "# parameters\n",
    "#terminology \n",
    "results_dir = './results_DL' \n",
    "column_selection= 'all'\n",
    "cls_encoding ='embeddings'\n",
    "classifiers =['LSTM','CNN']\n",
    "n_iter = 1\n",
    "n_splits = 3\n",
    "train_ratio = 0.8\n",
    "random_state = 22\n",
    "l2reg = 0.001\n",
    "\n",
    "allow_negative=False\n",
    "incl_time = True \n",
    "incl_res = True\n",
    "# create results directory\n",
    "if not os.path.exists(os.path.join(results_dir)):\n",
    "    os.makedirs(os.path.join(results_dir))"
   ]
  },
  {
   "cell_type": "markdown",
   "metadata": {
    "id": "UpCBthWhMhkS"
   },
   "source": [
    "# **Function for preprocessing the data**"
   ]
  },
  {
   "cell_type": "code",
   "execution_count": 18,
   "metadata": {
    "executionInfo": {
     "elapsed": 260,
     "status": "ok",
     "timestamp": 1652706738880,
     "user": {
      "displayName": "Alexander Stevens",
      "userId": "06895933540823444481"
     },
     "user_tz": -120
    },
    "id": "JqpKGwadG0sH"
   },
   "outputs": [],
   "source": [
    "def create_data(dt_train_prefixes, dt_test_prefixes):\n",
    "\n",
    "\n",
    "  #get the label of the train and test set\n",
    "  test_y = dataset_manager.get_label_numeric(dt_test_prefixes)\n",
    "  train_y = dataset_manager.get_label_numeric(dt_train_prefixes)   \n",
    "  \n",
    "  #cat columns integerencoded\n",
    "  cat_cols = cls_encoder_args['dynamic_cat_cols']+cls_encoder_args['static_cat_cols']\n",
    "\n",
    "  dt_train_prefixes[cat_cols],dt_test_prefixes[cat_cols]= prepare_inputs(dt_train_prefixes[cat_cols], dt_test_prefixes[cat_cols], data)\n",
    "  dt_train_prefixes[cat_cols] = dt_train_prefixes[cat_cols]+1\n",
    "  dt_test_prefixes[cat_cols] = dt_test_prefixes[cat_cols]+1\n",
    "  #append caseId and label\n",
    "  cat_cols.append('Case ID')\n",
    "  cat_cols.append('label')\n",
    "  #groupby case ID\n",
    "  \n",
    "  ans_train = groupby_caseID(dt_train_prefixes, cat_cols)\n",
    "  ans_test = groupby_caseID(dt_test_prefixes, cat_cols)\n",
    "  #obtain the new label lists after grouping\n",
    "  train_y, test_y = labels_after_grouping(ans_train, ans_test)\n",
    "  #remove then back\n",
    "  cat_cols.remove('label')\n",
    "  cat_cols.remove('Case ID')\n",
    "  #pad cat columns\n",
    "  paddings_train, paddings_test = pad_cat_data(cat_cols, ans_train, ans_test, maxlen)\n",
    "  \n",
    "  #NUMERICAL COLUMNS\n",
    "  numerical_columns = cls_encoder_args['dynamic_num_cols']+cls_encoder_args['static_num_cols']\n",
    "  numerical_columns.remove('timesincelastevent')\n",
    " \n",
    "  numerical_columns.append('Case ID')\n",
    "  ans_train2 = groupby_caseID(dt_train_prefixes, numerical_columns)\n",
    "  ans_test2 = groupby_caseID(dt_test_prefixes, numerical_columns )\n",
    "  numerical_columns.remove('Case ID')  \n",
    "  pad_train, pad_test = pad_num_data(numerical_columns, ans_train2, ans_test2, maxlen, dt_train_prefixes, dt_test_prefixes)\n",
    "  \n",
    "  #time inputs                   \n",
    "  ans_time_train= groupby_caseID(dt_train_prefixes,['timesincelastevent', 'Case ID'])\n",
    "  ans_time_test = groupby_caseID(dt_test_prefixes,['timesincelastevent', 'Case ID'])\n",
    "  pad_time_train, pad_time_test = pad_num_data(['timesincelastevent'], ans_time_train, ans_time_test, maxlen, dt_train_prefixes, dt_test_prefixes)\n",
    "  #reshape the time input\n",
    "  padded_time = reshape_num_data(pad_time_train[0], cutoff)\n",
    "  padded_time_test=  reshape_num_data(pad_time_test[0], cutoff)\n",
    "            \n",
    "  return pad_train, pad_test, paddings_train, paddings_test, padded_time, padded_time_test, train_y, test_y"
   ]
  },
  {
   "cell_type": "markdown",
   "metadata": {
    "id": "PVX1WhP2Mvv-"
   },
   "source": [
    "# **loop over datasets and classifiers**"
   ]
  },
  {
   "cell_type": "code",
   "execution_count": 23,
   "metadata": {
    "colab": {
     "base_uri": "https://localhost:8080/",
     "height": 1000
    },
    "executionInfo": {
     "elapsed": 347818,
     "status": "error",
     "timestamp": 1652707572800,
     "user": {
      "displayName": "Alexander Stevens",
      "userId": "06895933540823444481"
     },
     "user_tz": -120
    },
    "id": "agyg5xxq09yo",
    "outputId": "b317c9dd-f9cb-4db0-a16d-ee14b321d9be"
   },
   "outputs": [
    {
     "name": "stdout",
     "output_type": "stream",
     "text": [
      "Dataset: production\n",
      "Classifier LSTM\n",
      "Encoding embeddings\n",
      "{'batch_size': 160, 'dropout_rate': 0.25236146584363134, 'learning_rate': 0.0020729857246068453, 'lstm_size': 80, 'optimizer': 'Nadam'}\n",
      "Model: \"model_4\"\n",
      "__________________________________________________________________________________________________\n",
      " Layer (type)                   Output Shape         Param #     Connected to                     \n",
      "==================================================================================================\n",
      " Activity (InputLayer)          [(None, 23)]         0           []                               \n",
      "                                                                                                  \n",
      " Resource (InputLayer)          [(None, 23)]         0           []                               \n",
      "                                                                                                  \n",
      " Report_Type (InputLayer)       [(None, 23)]         0           []                               \n",
      "                                                                                                  \n",
      " Resource.1 (InputLayer)        [(None, 23)]         0           []                               \n",
      "                                                                                                  \n",
      " Part_Desc_ (InputLayer)        [(None, 23)]         0           []                               \n",
      "                                                                                                  \n",
      " Rework (InputLayer)            [(None, 23)]         0           []                               \n",
      "                                                                                                  \n",
      " embed_Activity (Embedding)     (None, 23, 28)       784         ['Activity[0][0]']               \n",
      "                                                                                                  \n",
      " embed_Resource (Embedding)     (None, 23, 32)       1024        ['Resource[0][0]']               \n",
      "                                                                                                  \n",
      " embed_Report_Type (Embedding)  (None, 23, 5)        25          ['Report_Type[0][0]']            \n",
      "                                                                                                  \n",
      " embed_Resource.1 (Embedding)   (None, 23, 22)       484         ['Resource.1[0][0]']             \n",
      "                                                                                                  \n",
      " embed_Part_Desc_ (Embedding)   (None, 23, 37)       1369        ['Part_Desc_[0][0]']             \n",
      "                                                                                                  \n",
      " embed_Rework (Embedding)       (None, 23, 4)        16          ['Rework[0][0]']                 \n",
      "                                                                                                  \n",
      " Qty_Completed (InputLayer)     [(None, 23, 1)]      0           []                               \n",
      "                                                                                                  \n",
      " Qty_for_MRB (InputLayer)       [(None, 23, 1)]      0           []                               \n",
      "                                                                                                  \n",
      " activity_duration (InputLayer)  [(None, 23, 1)]     0           []                               \n",
      "                                                                                                  \n",
      " hour (InputLayer)              [(None, 23, 1)]      0           []                               \n",
      "                                                                                                  \n",
      " weekday (InputLayer)           [(None, 23, 1)]      0           []                               \n",
      "                                                                                                  \n",
      " month (InputLayer)             [(None, 23, 1)]      0           []                               \n",
      "                                                                                                  \n",
      " timesincemidnight (InputLayer)  [(None, 23, 1)]     0           []                               \n",
      "                                                                                                  \n",
      " timesincecasestart (InputLayer  [(None, 23, 1)]     0           []                               \n",
      " )                                                                                                \n",
      "                                                                                                  \n",
      " event_nr (InputLayer)          [(None, 23, 1)]      0           []                               \n",
      "                                                                                                  \n",
      " open_cases (InputLayer)        [(None, 23, 1)]      0           []                               \n",
      "                                                                                                  \n",
      " Work_Order_Qty (InputLayer)    [(None, 23, 1)]      0           []                               \n",
      "                                                                                                  \n",
      " full_embedding (Concatenate)   (None, 23, 139)      0           ['embed_Activity[0][0]',         \n",
      "                                                                  'embed_Resource[0][0]',         \n",
      "                                                                  'embed_Report_Type[0][0]',      \n",
      "                                                                  'embed_Resource.1[0][0]',       \n",
      "                                                                  'embed_Part_Desc_[0][0]',       \n",
      "                                                                  'embed_Rework[0][0]',           \n",
      "                                                                  'Qty_Completed[0][0]',          \n",
      "                                                                  'Qty_for_MRB[0][0]',            \n",
      "                                                                  'activity_duration[0][0]',      \n",
      "                                                                  'hour[0][0]',                   \n",
      "                                                                  'weekday[0][0]',                \n",
      "                                                                  'month[0][0]',                  \n",
      "                                                                  'timesincemidnight[0][0]',      \n",
      "                                                                  'timesincecasestart[0][0]',     \n",
      "                                                                  'event_nr[0][0]',               \n",
      "                                                                  'open_cases[0][0]',             \n",
      "                                                                  'Work_Order_Qty[0][0]']         \n",
      "                                                                                                  \n",
      " dropout_4 (Dropout)            (None, 23, 139)      0           ['full_embedding[0][0]']         \n",
      "                                                                                                  \n",
      " time_input (InputLayer)        [(None, 23, 1)]      0           []                               \n",
      "                                                                                                  \n",
      " allInp (Concatenate)           (None, 23, 140)      0           ['dropout_4[0][0]',              \n",
      "                                                                  'time_input[0][0]']             \n",
      "                                                                                                  \n",
      " alpha (Bidirectional)          (None, 23, 160)      141440      ['allInp[0][0]']                 \n",
      "                                                                                                  \n",
      " alpha_dense_0 (TimeDistributed  (None, 23, 1)       161         ['alpha[0][0]']                  \n",
      " )                                                                                                \n",
      "                                                                                                  \n",
      " beta (Bidirectional)           (None, 23, 160)      141440      ['allInp[0][0]']                 \n",
      "                                                                                                  \n",
      " alpha_softmax (Softmax)        (None, 23, 1)        0           ['alpha_dense_0[0][0]']          \n",
      "                                                                                                  \n",
      " beta_dense_0 (TimeDistributed)  (None, 23, 140)     22540       ['beta[0][0]']                   \n",
      "                                                                                                  \n",
      " multiply_2 (Multiply)          (None, 23, 140)      0           ['alpha_softmax[0][0]',          \n",
      "                                                                  'beta_dense_0[0][0]',           \n",
      "                                                                  'allInp[0][0]']                 \n",
      "                                                                                                  \n",
      " lambda_2 (Lambda)              (None, 140)          0           ['multiply_2[0][0]']             \n",
      "                                                                                                  \n",
      " dropout_5 (Dropout)            (None, 140)          0           ['lambda_2[0][0]']               \n",
      "                                                                                                  \n",
      " final_output (Dense)           (None, 1)            141         ['dropout_5[0][0]']              \n",
      "                                                                                                  \n",
      "==================================================================================================\n",
      "Total params: 309,424\n",
      "Trainable params: 309,424\n",
      "Non-trainable params: 0\n",
      "__________________________________________________________________________________________________\n",
      "Epoch 1/500\n",
      "11/11 - 13s - loss: 0.7993 - val_loss: 0.7429 - lr: 0.0021 - 13s/epoch - 1s/step\n",
      "Epoch 2/500\n",
      "11/11 - 1s - loss: 0.6231 - val_loss: 0.6773 - lr: 0.0021 - 665ms/epoch - 60ms/step\n",
      "Epoch 3/500\n",
      "11/11 - 1s - loss: 0.4784 - val_loss: 0.6432 - lr: 0.0021 - 647ms/epoch - 59ms/step\n",
      "Epoch 4/500\n",
      "11/11 - 1s - loss: 0.4088 - val_loss: 0.7238 - lr: 0.0021 - 668ms/epoch - 61ms/step\n",
      "Epoch 5/500\n",
      "11/11 - 1s - loss: 0.3449 - val_loss: 0.7693 - lr: 0.0021 - 665ms/epoch - 60ms/step\n",
      "Epoch 6/500\n",
      "11/11 - 1s - loss: 0.3012 - val_loss: 0.8418 - lr: 0.0021 - 629ms/epoch - 57ms/step\n",
      "Epoch 7/500\n",
      "11/11 - 1s - loss: 0.2584 - val_loss: 0.8881 - lr: 0.0021 - 652ms/epoch - 59ms/step\n",
      "Epoch 8/500\n",
      "11/11 - 1s - loss: 0.2382 - val_loss: 1.0477 - lr: 0.0021 - 628ms/epoch - 57ms/step\n",
      "Epoch 9/500\n",
      "11/11 - 1s - loss: 0.2082 - val_loss: 1.0612 - lr: 0.0021 - 627ms/epoch - 57ms/step\n",
      "Epoch 10/500\n",
      "11/11 - 1s - loss: 0.2243 - val_loss: 1.0425 - lr: 0.0021 - 635ms/epoch - 58ms/step\n",
      "Epoch 11/500\n",
      "11/11 - 1s - loss: 0.1639 - val_loss: 1.1648 - lr: 0.0021 - 619ms/epoch - 56ms/step\n",
      "Epoch 12/500\n",
      "11/11 - 1s - loss: 0.1575 - val_loss: 1.1942 - lr: 0.0021 - 655ms/epoch - 60ms/step\n",
      "Epoch 13/500\n",
      "11/11 - 1s - loss: 0.1642 - val_loss: 1.2466 - lr: 0.0021 - 622ms/epoch - 57ms/step\n",
      "Epoch 14/500\n",
      "11/11 - 1s - loss: 0.1326 - val_loss: 1.2904 - lr: 0.0010 - 604ms/epoch - 55ms/step\n",
      "Epoch 15/500\n",
      "11/11 - 1s - loss: 0.1234 - val_loss: 1.3442 - lr: 0.0010 - 597ms/epoch - 54ms/step\n",
      "Epoch 16/500\n",
      "11/11 - 1s - loss: 0.1185 - val_loss: 1.3294 - lr: 0.0010 - 601ms/epoch - 55ms/step\n",
      "Epoch 17/500\n",
      "11/11 - 1s - loss: 0.1141 - val_loss: 1.3637 - lr: 0.0010 - 596ms/epoch - 54ms/step\n",
      "Epoch 18/500\n",
      "11/11 - 1s - loss: 0.1175 - val_loss: 1.3609 - lr: 0.0010 - 615ms/epoch - 56ms/step\n",
      "Epoch 19/500\n",
      "11/11 - 1s - loss: 0.1124 - val_loss: 1.3660 - lr: 0.0010 - 596ms/epoch - 54ms/step\n",
      "Epoch 20/500\n",
      "11/11 - 1s - loss: 0.1023 - val_loss: 1.4702 - lr: 0.0010 - 595ms/epoch - 54ms/step\n",
      "Epoch 21/500\n",
      "11/11 - 1s - loss: 0.1061 - val_loss: 1.5155 - lr: 0.0010 - 611ms/epoch - 56ms/step\n",
      "Epoch 22/500\n",
      "11/11 - 1s - loss: 0.0988 - val_loss: 1.5141 - lr: 0.0010 - 584ms/epoch - 53ms/step\n",
      "Epoch 23/500\n",
      "11/11 - 1s - loss: 0.1020 - val_loss: 1.5931 - lr: 0.0010 - 600ms/epoch - 55ms/step\n",
      "Epoch 24/500\n",
      "11/11 - 1s - loss: 0.0966 - val_loss: 1.5680 - lr: 5.1825e-04 - 580ms/epoch - 53ms/step\n",
      "Epoch 25/500\n",
      "11/11 - 1s - loss: 0.0916 - val_loss: 1.5115 - lr: 5.1825e-04 - 601ms/epoch - 55ms/step\n",
      "Epoch 26/500\n",
      "11/11 - 1s - loss: 0.0963 - val_loss: 1.5462 - lr: 5.1825e-04 - 593ms/epoch - 54ms/step\n",
      "Epoch 27/500\n",
      "11/11 - 1s - loss: 0.0929 - val_loss: 1.5960 - lr: 5.1825e-04 - 603ms/epoch - 55ms/step\n",
      "Epoch 28/500\n",
      "11/11 - 1s - loss: 0.0947 - val_loss: 1.5626 - lr: 5.1825e-04 - 601ms/epoch - 55ms/step\n",
      "Epoch 29/500\n",
      "11/11 - 1s - loss: 0.0890 - val_loss: 1.5964 - lr: 5.1825e-04 - 596ms/epoch - 54ms/step\n",
      "Epoch 30/500\n",
      "11/11 - 1s - loss: 0.0916 - val_loss: 1.5736 - lr: 5.1825e-04 - 606ms/epoch - 55ms/step\n",
      "Epoch 31/500\n",
      "11/11 - 1s - loss: 0.0967 - val_loss: 1.6073 - lr: 5.1825e-04 - 592ms/epoch - 54ms/step\n",
      "Epoch 32/500\n",
      "11/11 - 1s - loss: 0.0876 - val_loss: 1.5889 - lr: 5.1825e-04 - 589ms/epoch - 54ms/step\n",
      "Epoch 33/500\n",
      "11/11 - 1s - loss: 0.0818 - val_loss: 1.5762 - lr: 5.1825e-04 - 592ms/epoch - 54ms/step\n",
      "Epoch 34/500\n",
      "11/11 - 1s - loss: 0.0833 - val_loss: 1.5909 - lr: 2.5912e-04 - 596ms/epoch - 54ms/step\n",
      "Epoch 35/500\n",
      "11/11 - 1s - loss: 0.0813 - val_loss: 1.6333 - lr: 2.5912e-04 - 599ms/epoch - 54ms/step\n",
      "Epoch 36/500\n",
      "11/11 - 1s - loss: 0.0803 - val_loss: 1.6178 - lr: 2.5912e-04 - 597ms/epoch - 54ms/step\n",
      "Epoch 37/500\n",
      "11/11 - 1s - loss: 0.0809 - val_loss: 1.6139 - lr: 2.5912e-04 - 605ms/epoch - 55ms/step\n",
      "Epoch 38/500\n",
      "11/11 - 1s - loss: 0.0751 - val_loss: 1.6378 - lr: 2.5912e-04 - 587ms/epoch - 53ms/step\n",
      "Epoch 39/500\n",
      "11/11 - 1s - loss: 0.0764 - val_loss: 1.6730 - lr: 2.5912e-04 - 598ms/epoch - 54ms/step\n",
      "Epoch 40/500\n",
      "11/11 - 1s - loss: 0.0764 - val_loss: 1.6708 - lr: 2.5912e-04 - 640ms/epoch - 58ms/step\n",
      "Epoch 41/500\n",
      "11/11 - 1s - loss: 0.0776 - val_loss: 1.6687 - lr: 2.5912e-04 - 610ms/epoch - 55ms/step\n",
      "Epoch 42/500\n",
      "11/11 - 1s - loss: 0.0804 - val_loss: 1.6783 - lr: 2.5912e-04 - 598ms/epoch - 54ms/step\n",
      "Epoch 43/500\n",
      "11/11 - 1s - loss: 0.0831 - val_loss: 1.6719 - lr: 2.5912e-04 - 587ms/epoch - 53ms/step\n",
      "Epoch 44/500\n",
      "11/11 - 1s - loss: 0.0751 - val_loss: 1.6678 - lr: 1.2956e-04 - 577ms/epoch - 52ms/step\n",
      "Epoch 45/500\n",
      "11/11 - 1s - loss: 0.0800 - val_loss: 1.6506 - lr: 1.2956e-04 - 593ms/epoch - 54ms/step\n",
      "['Activity', 'Resource', 'Report_Type', 'Resource.1', 'Part_Desc_', 'Rework', 'embed_Activity', 'embed_Resource', 'embed_Report_Type', 'embed_Resource.1', 'embed_Part_Desc_', 'embed_Rework', 'Qty_Completed', 'Qty_for_MRB', 'activity_duration', 'hour', 'weekday', 'month', 'timesincemidnight', 'timesincecasestart', 'event_nr', 'open_cases', 'Work_Order_Qty', 'full_embedding', 'dropout_4', 'time_input', 'allInp', 'alpha', 'alpha_dense_0', 'beta', 'alpha_softmax', 'beta_dense_0', 'multiply_2', 'lambda_2', 'dropout_5', 'final_output']\n",
      "     attributes              attribute_values\n",
      "0      0.106663                         Start\n",
      "1      0.016720         Final Inspection Q.C.\n",
      "2      0.006113    Flat Grinding - Machine 11\n",
      "3     -0.005078  Grinding Rework - Machine 27\n",
      "4      0.005480           Lapping - Machine 1\n",
      "..          ...                           ...\n",
      "135    0.004926            timesincecasestart\n",
      "136   -0.006618                      event_nr\n",
      "137   -0.006069                    open_cases\n",
      "138    0.001156                Work_Order_Qty\n",
      "139    0.000000                          time\n",
      "\n",
      "[140 rows x 2 columns]\n"
     ]
    },
    {
     "data": {
      "image/png": "[encoded data removed]",
      "text/plain": [
       "<Figure size 720x504 with 1 Axes>"
      ]
     },
     "metadata": {},
     "output_type": "display_data"
    },
    {
     "name": "stdout",
     "output_type": "stream",
     "text": [
      " \n",
      "Variable 1, perturbation effect: 0.1428\n",
      " \n",
      "Variable 2, perturbation effect: 0.6040\n",
      " \n",
      "WARNING:tensorflow:5 out of the last 1871 calls to <function Model.make_predict_function.<locals>.predict_function at 0x7ff0cf32acb0> triggered tf.function retracing. Tracing is expensive and the excessive number of tracings could be due to (1) creating @tf.function repeatedly in a loop, (2) passing tensors with different shapes, (3) passing Python objects instead of tensors. For (1), please define your @tf.function outside of the loop. For (2), @tf.function has experimental_relax_shapes=True option that relaxes argument shapes that can avoid unnecessary retracing. For (3), please refer to https://www.tensorflow.org/guide/function#controlling_retracing and https://www.tensorflow.org/api_docs/python/tf/function for  more details.\n",
      "Variable 3, perturbation effect: 0.0781\n",
      " \n",
      "WARNING:tensorflow:6 out of the last 1872 calls to <function Model.make_predict_function.<locals>.predict_function at 0x7ff0cf32acb0> triggered tf.function retracing. Tracing is expensive and the excessive number of tracings could be due to (1) creating @tf.function repeatedly in a loop, (2) passing tensors with different shapes, (3) passing Python objects instead of tensors. For (1), please define your @tf.function outside of the loop. For (2), @tf.function has experimental_relax_shapes=True option that relaxes argument shapes that can avoid unnecessary retracing. For (3), please refer to https://www.tensorflow.org/guide/function#controlling_retracing and https://www.tensorflow.org/api_docs/python/tf/function for  more details.\n",
      "Variable 4, perturbation effect: 0.0470\n",
      " \n",
      "Variable 5, perturbation effect: 0.4630\n",
      " \n",
      "Variable 6, perturbation effect: 0.0493\n",
      "6\n",
      "Variable 7, perturbation effect: 0.0124\n",
      "7\n",
      "Variable 8, perturbation effect: 0.0393\n",
      "8\n",
      "Variable 9, perturbation effect: 0.0295\n",
      "9\n",
      "Variable 10, perturbation effect: 0.0115\n",
      "10\n",
      "Variable 11, perturbation effect: 0.0372\n",
      "11\n",
      "Variable 12, perturbation effect: 0.0159\n",
      "12\n",
      "Variable 13, perturbation effect: 0.0166\n",
      "13\n",
      "Variable 14, perturbation effect: 0.0281\n",
      "14\n",
      "Variable 15, perturbation effect: 0.0218\n",
      "15\n",
      "Variable 16, perturbation effect: 0.0135\n",
      "16\n",
      "Variable 17, perturbation effect: 0.4608\n",
      "17\n",
      "Variable 18, perturbation effect: 0.3023\n",
      "event attributes and percentage of event attributes: 14 1.0\n",
      "case attributes and percentage of case attributes: 3 1.0\n",
      "controlflow attributes and percentage of controlflow attributes 1 1.0\n",
      "event columns\n",
      "171.0 1472\n",
      "FC_event:  0.11616847826086957\n",
      "case columns\n",
      "212.0 1472\n",
      "FC_case:  0.14402173913043478\n",
      "control columns\n",
      "172.0 1472\n",
      "FC_control:  0.11684782608695653\n",
      "len event:  14 len_case:  3 len_control 1\n",
      "lengths 18 18\n",
      "Spearmans correlation coefficient: 0.631\n",
      "Samples are correlated (reject H0) p=0.005\n"
     ]
    },
    {
     "data": {
      "application/javascript": [
       "\n",
       "    async function download(id, filename, size) {\n",
       "      if (!google.colab.kernel.accessAllowed) {\n",
       "        return;\n",
       "      }\n",
       "      const div = document.createElement('div');\n",
       "      const label = document.createElement('label');\n",
       "      label.textContent = `Downloading \"${filename}\": `;\n",
       "      div.appendChild(label);\n",
       "      const progress = document.createElement('progress');\n",
       "      progress.max = size;\n",
       "      div.appendChild(progress);\n",
       "      document.body.appendChild(div);\n",
       "\n",
       "      const buffers = [];\n",
       "      let downloaded = 0;\n",
       "\n",
       "      const channel = await google.colab.kernel.comms.open(id);\n",
       "      // Send a message to notify the kernel that we're ready.\n",
       "      channel.send({})\n",
       "\n",
       "      for await (const message of channel.messages) {\n",
       "        // Send a message to notify the kernel that we're ready.\n",
       "        channel.send({})\n",
       "        if (message.buffers) {\n",
       "          for (const buffer of message.buffers) {\n",
       "            buffers.push(buffer);\n",
       "            downloaded += buffer.byteLength;\n",
       "            progress.value = downloaded;\n",
       "          }\n",
       "        }\n",
       "      }\n",
       "      const blob = new Blob(buffers, {type: 'application/binary'});\n",
       "      const a = document.createElement('a');\n",
       "      a.href = window.URL.createObjectURL(blob);\n",
       "      a.download = filename;\n",
       "      div.appendChild(a);\n",
       "      a.click();\n",
       "      div.remove();\n",
       "    }\n",
       "  "
      ],
      "text/plain": [
       "<IPython.core.display.Javascript object>"
      ]
     },
     "metadata": {},
     "output_type": "display_data"
    },
    {
     "data": {
      "application/javascript": [
       "download(\"download_64177267-07c8-4cc2-8ac2-d59f6aa1203d\", \"performance_results_LSTM_production_all_embeddings.csv\", 1216)"
      ],
      "text/plain": [
       "<IPython.core.display.Javascript object>"
      ]
     },
     "metadata": {},
     "output_type": "display_data"
    },
    {
     "name": "stdout",
     "output_type": "stream",
     "text": [
      "Dataset: production\n",
      "Classifier CNN\n",
      "Encoding embeddings\n",
      "problem\n"
     ]
    },
    {
     "ename": "FileNotFoundError",
     "evalue": "ignored",
     "output_type": "error",
     "traceback": [
      "\u001b[0;31m---------------------------------------------------------------------------\u001b[0m",
      "\u001b[0;31mFileNotFoundError\u001b[0m                         Traceback (most recent call last)",
      "\u001b[0;32m<ipython-input-23-ca7adc6a295e>\u001b[0m in \u001b[0;36m<module>\u001b[0;34m()\u001b[0m\n\u001b[1;32m     10\u001b[0m             \u001b[0;32mif\u001b[0m \u001b[0;32mnot\u001b[0m \u001b[0mos\u001b[0m\u001b[0;34m.\u001b[0m\u001b[0mpath\u001b[0m\u001b[0;34m.\u001b[0m\u001b[0misfile\u001b[0m\u001b[0;34m(\u001b[0m\u001b[0moptimal_params_filename\u001b[0m\u001b[0;34m)\u001b[0m \u001b[0;32mor\u001b[0m \u001b[0mos\u001b[0m\u001b[0;34m.\u001b[0m\u001b[0mpath\u001b[0m\u001b[0;34m.\u001b[0m\u001b[0mgetsize\u001b[0m\u001b[0;34m(\u001b[0m\u001b[0moptimal_params_filename\u001b[0m\u001b[0;34m)\u001b[0m \u001b[0;34m<=\u001b[0m \u001b[0;36m0\u001b[0m\u001b[0;34m:\u001b[0m\u001b[0;34m\u001b[0m\u001b[0;34m\u001b[0m\u001b[0m\n\u001b[1;32m     11\u001b[0m                 \u001b[0mprint\u001b[0m\u001b[0;34m(\u001b[0m\u001b[0;34m'problem'\u001b[0m\u001b[0;34m)\u001b[0m\u001b[0;34m\u001b[0m\u001b[0;34m\u001b[0m\u001b[0m\n\u001b[0;32m---> 12\u001b[0;31m             \u001b[0;32mwith\u001b[0m \u001b[0mopen\u001b[0m\u001b[0;34m(\u001b[0m\u001b[0moptimal_params_filename\u001b[0m\u001b[0;34m,\u001b[0m \u001b[0;34m\"rb\"\u001b[0m\u001b[0;34m)\u001b[0m \u001b[0;32mas\u001b[0m \u001b[0mfin\u001b[0m\u001b[0;34m:\u001b[0m\u001b[0;34m\u001b[0m\u001b[0;34m\u001b[0m\u001b[0m\n\u001b[0m        \u001b[0;36mglobal\u001b[0m \u001b[0;36mopen\u001b[0m \u001b[0;34m= \u001b[0;36mundefined\u001b[0m\u001b[0m\u001b[0;34m\n        \u001b[0m\u001b[0;36mglobal\u001b[0m \u001b[0;36moptimal_params_filename\u001b[0m \u001b[0;34m= 'optimal_params_CNN_production_all_embeddings.pickle'\u001b[0m\u001b[0;34m\n        \u001b[0m\u001b[0;36mglobal\u001b[0m \u001b[0;36mfin\u001b[0m \u001b[0;34m= <_io.BufferedReader name='optimal_params_LSTM_production_all_embeddings.pickle'>\u001b[0m\n\u001b[1;32m     13\u001b[0m                 \u001b[0margs\u001b[0m \u001b[0;34m=\u001b[0m \u001b[0mpickle\u001b[0m\u001b[0;34m.\u001b[0m\u001b[0mload\u001b[0m\u001b[0;34m(\u001b[0m\u001b[0mfin\u001b[0m\u001b[0;34m)\u001b[0m\u001b[0;34m\u001b[0m\u001b[0;34m\u001b[0m\u001b[0m\n\u001b[1;32m     14\u001b[0m                 \u001b[0mprint\u001b[0m\u001b[0;34m(\u001b[0m\u001b[0margs\u001b[0m\u001b[0;34m)\u001b[0m\u001b[0;34m\u001b[0m\u001b[0;34m\u001b[0m\u001b[0m\n",
      "\u001b[0;31mFileNotFoundError\u001b[0m: [Errno 2] No such file or directory: 'optimal_params_CNN_production_all_embeddings.pickle'"
     ]
    }
   ],
   "source": [
    "for cls_method in classifiers:\n",
    "    for dataset_name in datasets:\n",
    "            dataset_name_csv = res[dataset_name]\n",
    "            print('Dataset:', dataset_name)\n",
    "            print('Classifier', cls_method)\n",
    "            print('Encoding', cls_encoding)\n",
    "            method_name = \"%s_%s\"%(column_selection, cls_encoding)            \n",
    "\n",
    "            optimal_params_filename = os.path.join(\"\", \"optimal_params_%s_%s_%s.pickle\" % (cls_method, dataset_name, method_name))\n",
    "            if not os.path.isfile(optimal_params_filename) or os.path.getsize(optimal_params_filename) <= 0:\n",
    "                print('problem')\n",
    "            with open(optimal_params_filename, \"rb\") as fin:\n",
    "                args = pickle.load(fin)\n",
    "                print(args)\n",
    "                \n",
    "            # read the data\n",
    "            dataset_manager = DatasetManager(dataset_name)\n",
    "            data = pd.read_csv(dataset_name_csv+'.csv', sep=';')\n",
    "            if dataset_name in ['bpic2011_f1', 'bpic2011_f2', 'bpic2011_f3', 'bpic2011_f4','bpic2015_1_f2','bpic2015_2_f2','bpic2015_3_f2','bpic2015_4_f2','bpic2015_5_f2','sepsis_cases_1','sepsis_cases_2','sepsis_cases_4']:\n",
    "              data['time:timestamp'] = pd.to_datetime(data['time:timestamp'])\n",
    "            if dataset_name in ['bpic2012_accepted', 'bpic2012_cancelled', 'bpic2012_declined']:\n",
    "              data['Complete Timestamp'] = pd.to_datetime(data['Complete Timestamp'])\n",
    "            data['timesincemidnight'] = data['timesincemidnight']/60\n",
    "            data['timesincemidnight'] = round(data['timesincemidnight'],0)\n",
    "            data['timesincecasestart'] = data['timesincecasestart']/60\n",
    "            data['timesincecasestart'] = round(data['timesincecasestart'],0)\n",
    "            data['timesincelastevent'] = data['timesincelastevent']/60\n",
    "            data['timesincelastevent'] = round(data['timesincelastevent'],0)\n",
    "            \n",
    "            \n",
    "            cls_encoder_args = {'case_id_col': dataset_manager.case_id_col, \n",
    "                        'static_cat_cols': dataset_manager.static_cat_cols,\n",
    "                        'static_num_cols': dataset_manager.static_num_cols, \n",
    "                        'dynamic_cat_cols': dataset_manager.dynamic_cat_cols,\n",
    "                        'dynamic_num_cols': dataset_manager.dynamic_num_cols, \n",
    "                        'fillna': True}\n",
    "            \n",
    "            #file to save results\n",
    "            outfile = os.path.join('', \"performance_results_%s_%s_%s.csv\" % (cls_method, dataset_name, method_name))\n",
    "            \n",
    "            # determine min and max (truncated) prefix lengths\n",
    "            min_prefix_length = 1\n",
    "            if \"traffic_fines\" in dataset_name:\n",
    "                max_prefix_length = 10\n",
    "            elif \"bpic2017\" in dataset_name:\n",
    "                max_prefix_length = min(20, dataset_manager.get_pos_case_length_quantile(data, 0.90))\n",
    "            else:\n",
    "                max_prefix_length = min(40, dataset_manager.get_pos_case_length_quantile(data, 0.90))\n",
    "            maxlen = cutoff = max_prefix_length\n",
    "            \n",
    "            # split into training and test\n",
    "            train, test = dataset_manager.split_data_strict(data, train_ratio, split=\"temporal\")\n",
    "            \n",
    "            #prefix generation of train and test data\n",
    "            dt_train_prefixes = dataset_manager.generate_prefix_data(train, min_prefix_length, max_prefix_length)\n",
    "            dt_test_prefixes = dataset_manager.generate_prefix_data(test, min_prefix_length, max_prefix_length)\n",
    "\n",
    "            pad_train, pad_test, paddings_train, paddings_test, padded_time, padded_time_test, train_y, test_y = create_data(dt_train_prefixes, dt_test_prefixes)\n",
    "            cat_cols = cls_encoder_args['dynamic_cat_cols']+cls_encoder_args['static_cat_cols']\n",
    "        \n",
    "            numerical_columns = cls_encoder_args['dynamic_num_cols']+cls_encoder_args['static_num_cols']\n",
    "            numerical_columns.remove('timesincelastevent')\n",
    "\n",
    "            #control flow, event and case \n",
    "            event_columns = cls_encoder_args['dynamic_cat_cols']+cls_encoder_args['dynamic_num_cols']\n",
    "            controlflow_columns =  [x for x in event_columns if 'Activity' in x]\n",
    "            event_columns.remove(controlflow_columns[0])\n",
    "            case_columns = cls_encoder_args['static_cat_cols']+cls_encoder_args['static_num_cols']\n",
    "            len_event = len(event_columns)\n",
    "            len_case = len(case_columns)\n",
    "            len_control = len(controlflow_columns)\n",
    "\n",
    "            #create the input layers and embeddings\n",
    "            embeddings= []\n",
    "            input_layers = []\n",
    "            preds_all = []\n",
    "            nr_events_all = []\n",
    "            test_y_all = []\n",
    "            score = 0\n",
    "            dim = 0\n",
    "            test_y_all = []\n",
    "            test_y_all.extend(test_y)\n",
    "            nr_events = list(dataset_manager.get_prefix_lengths(dt_test_prefixes))\n",
    "            nr_events_all.extend(nr_events)\n",
    "            \n",
    "            for i in cat_cols:\n",
    "                cat_weights, index_cat, cat_index, no_cols = create_indexes(i, data)\n",
    "                i = i.replace(':','_')\n",
    "                i = i.replace(' ','_')\n",
    "                input_layer = Input(shape=(cutoff,), name=i)\n",
    "                embedding = Embedding(cat_weights.shape[0],\n",
    "                                              cat_weights.shape[1],\n",
    "                                              weights=[cat_weights],\n",
    "                                              input_length=no_cols,\n",
    "                                            name='embed_'+i)(input_layer)\n",
    "                embeddings.append(embedding)\n",
    "                input_layers.append(input_layer)\n",
    "                dim += cat_weights.shape[1]\n",
    "\n",
    "            #static input layers\n",
    "\n",
    "            for j in numerical_columns:\n",
    "                j = j.replace('(','_')\n",
    "                j = j.replace(')','_')\n",
    "                j = j.replace(' ','_')\n",
    "                j = j.replace(':','_')\n",
    "                input_layer = Input(shape=(cutoff,1), name=j)\n",
    "                input_layers.append(input_layer)\n",
    "                embeddings.append(input_layer)\n",
    "                dim +=1\n",
    "\n",
    "            #create the model inputs\n",
    "            model_inputs= []\n",
    "            model_inputs_test= []\n",
    "            for i in range(0,len(paddings_train)):\n",
    "                    model_inputs.append(paddings_train[i])\n",
    "\n",
    "            for i in range(0,len(paddings_test)):\n",
    "                    model_inputs_test.append(paddings_test[i])\n",
    "\n",
    "            for i in range(0,len(pad_train)):\n",
    "                    model_inputs.append(reshape_num_data(pad_train[i], cutoff))\n",
    "\n",
    "            for i in range(0,len(pad_test)):\n",
    "                    model_inputs_test.append(reshape_num_data(pad_test[i], cutoff))\n",
    "\n",
    "            model_inputs.append(padded_time)\n",
    "            model_inputs_test.append(padded_time_test)\n",
    "\n",
    "             #Apply dropout on inputs\n",
    "            full_embs = concatenate(embeddings, name='full_embedding')\n",
    "            full_embs = Dropout(args['dropout_rate'])(full_embs)\n",
    "            time_input_layer = Input(shape=(cutoff,1), name='time_input')\n",
    "            input_layers.append(time_input_layer)\n",
    "            time_embs = concatenate([full_embs, time_input_layer], name='allInp')\n",
    "            dim += 1\n",
    "            l2reg=0.001\n",
    "\n",
    "            if cls_method =='LSTM':\n",
    "                \n",
    "                #Compute alpha, visit attention\n",
    "                alpha = Bidirectional(LSTM(args['lstm_size'], return_sequences=True), name='alpha')\n",
    "                alpha_out = alpha(time_embs)\n",
    "                alpha_dense = Dense(1, kernel_regularizer=l2(l2reg))\n",
    "                alpha_out = TimeDistributed(alpha_dense, name='alpha_dense_0')(alpha_out)\n",
    "                alpha_out = Softmax(axis=1, name='alpha_softmax')(alpha_out)\n",
    "                \n",
    "                \n",
    "                #Compute beta, codes attention\n",
    "                beta = Bidirectional(LSTM(args['lstm_size'], return_sequences=True),   name='beta')\n",
    "                beta_out = beta(time_embs)\n",
    "                beta_dense = Dense(dim, activation='tanh', kernel_regularizer=l2(l2reg))\n",
    "                beta_out = TimeDistributed(beta_dense, name='beta_dense_0')(beta_out)\n",
    "                \n",
    "                #Compute context vector based on attentions and embeddings\n",
    "                c_t = Multiply()([alpha_out, beta_out, time_embs])\n",
    "                c_t = Lambda(lambda x: backend.sum(x, axis=1))(c_t)\n",
    "\n",
    "                #Make a prediction\n",
    "                contexts = Dropout(args['dropout_rate'])(c_t)\n",
    "                output_layer = Dense(1, activation='sigmoid', name='final_output')(contexts)\n",
    "\n",
    "            if cls_method =='CNN':\n",
    "\n",
    "                #conv layer\n",
    "                #input shape of conv1D: (sequences, feature dimension)\n",
    "                #compute alpha\n",
    "                alpha_dense = Dense(1, kernel_regularizer=l2(l2reg))\n",
    "                alpha_out = TimeDistributed(alpha_dense, name='alpha_dense_0')(time_embs)\n",
    "                alpha_out = Softmax(axis=1, name='alpha_softmax')(alpha_out)\n",
    "                \n",
    "                conv1_alpha = Conv1D(filters=time_embs.shape[2], kernel_size= int(time_embs.shape[1]), activation='tanh', input_shape=(maxlen,time_embs.shape[0]))(alpha_out)\n",
    "                #compute beta           \n",
    "                beta_dense = Dense(dim, activation='tanh', kernel_regularizer=l2(l2reg))\n",
    "                beta_out = TimeDistributed(beta_dense, name='beta_dense_0')(time_embs) \n",
    "                conv1_beta = Conv1D(filters=time_embs.shape[2], kernel_size=int(time_embs.shape[1]), activation='tanh', input_shape=(maxlen,time_embs.shape[0]))(beta_out)\n",
    "                #alpha_out = Conv1D(filters=args['filters'], kernel_size= int(alpha_out.shape[1]), activation='tanh', input_shape=(maxlen,time_embs.shape[0]))(alpha_out)\n",
    "                #beta_out = Conv1D(filters=args['filters'], kernel_size=int(beta_out.shape[1]), activation='tanh', input_shape=(maxlen,time_embs.shape[0]))(beta_out)\n",
    "              \n",
    "                #Compute context vector based on attentions and embeddings\n",
    "                c_t = Multiply()([conv1_alpha, conv1_beta, time_embs])\n",
    "                c_t = Lambda(lambda x: backend.sum(x, axis=1))(c_t)\n",
    "                print('cont')\n",
    "                #Make a prediction\n",
    "                contexts = Dropout(args['dropout_rate'])(c_t)\n",
    "                dense_layer = Dense(args['filters'], activation='relu', name='dense_output')(contexts)\n",
    "                output_layer = Dense(1, activation='sigmoid', name='final_output')(dense_layer)\n",
    "                \n",
    "             #MODEL\n",
    "            model = Model(inputs=[input_layers], outputs=output_layer)\n",
    "\n",
    "            if args['optimizer']=='RMSprop':\n",
    "                  opt = RMSprop(learning_rate=args['learning_rate'])\n",
    "            if args['optimizer']=='Nadam':\n",
    "                  opt = Nadam(learning_rate=args['learning_rate'])\n",
    "            if args['optimizer']=='Adam':\n",
    "                  opt = Adam(learning_rate=args['learning_rate'])\n",
    "            if args['optimizer']=='SGD':\n",
    "                  opt = SGD(learning_rate=args['learning_rate'])\n",
    "\n",
    "            model.compile(loss={'final_output':'binary_crossentropy'}, optimizer= opt)\n",
    "\n",
    "            model.summary()\n",
    "\n",
    "            early_stopping = EarlyStopping(monitor='val_loss', patience=42)\n",
    "            model_checkpoint = ModelCheckpoint('output_files/models/model_{epoch:02d}-{val_loss:.2f}.h5', monitor='val_loss', verbose=0, save_best_only=True, save_weights_only=False, mode='auto')\n",
    "            lr_reducer = ReduceLROnPlateau(monitor='val_loss', factor=0.5, patience=10, verbose=0, mode='auto', min_delta=0.0001, cooldown=0, min_lr=0)\n",
    "\n",
    "            result = model.fit(model_inputs,\n",
    "                  np.array(train_y),\n",
    "                  callbacks=[early_stopping, lr_reducer],\n",
    "                  validation_split = 0.1,\n",
    "                  verbose=2, batch_size=args['batch_size'],\n",
    "                  epochs=500)\n",
    "            pred = model.predict(model_inputs_test)\n",
    "            preds_all.extend(pred)\n",
    "            auc_total = roc_auc_score(test_y_all, preds_all)\n",
    "\n",
    "            #columns\n",
    "            #controlflow columns\n",
    "            controlflow_columns = [word for word in cls_encoder_args['dynamic_cat_cols'] if word.startswith('Act')]\n",
    "            \n",
    "            len_control = len(controlflow_columns)\n",
    "            \n",
    "            #event columns\n",
    "            event_columns = cls_encoder_args['dynamic_cat_cols'].copy()\n",
    "            event_columns.remove(controlflow_columns[0])\n",
    "            event_columns.extend(cls_encoder_args['dynamic_num_cols'].copy())\n",
    "            \n",
    "            len_event = len(event_columns)\n",
    "\n",
    "            #case columns\n",
    "            case_columns = cls_encoder_args['static_cat_cols'].copy()\n",
    "            case_columns.extend(cls_encoder_args['static_num_cols'])\n",
    "\n",
    "            len_case = len(case_columns)\n",
    "\n",
    "            #total amount of columns \n",
    "            total_cols = len(event_columns)+len(controlflow_columns)+len(case_columns)\n",
    "\n",
    "            #attention, parsimony, FC and monotonicity\n",
    "            df_var, attention_values = attention() \n",
    "            effects_saved  = var_importance(model, model_inputs, len(model_inputs[0][0]))\n",
    "            parsimony_event, parsimony_case, parsimony_control = parsimony(attention_values)\n",
    "            FC_event, FC_case, FC_control = functional_complexity(dt_test_prefixes, len(dt_test_prefixes))\n",
    "            print('len event: ', len_event,'len_case: ', len_case, 'len_control', len_control)\n",
    "            \n",
    "            monotonicity_value, attention_event, attention_case, attention_control, perturbation_event, perturbation_case, perturbation_control = monotonicity(attention_values, effects_saved)\n",
    "\n",
    "            outfile = os.path.join(results_dir, \"performance_results_%s_%s_%s.csv\" % (cls_method, dataset_name, method_name))\n",
    "        \n",
    "            # write to file\n",
    "            from google.colab import files\n",
    "            with open(outfile, 'w') as fout:\n",
    "                fout.write(\"%s;%s;%s;%s;%s;%s\\n\"%(\"dataset\", \"method\", \"cls\", \"nr_events\", \"metric\", \"score\"))\n",
    "                dt_results = pd.DataFrame({\"actual\": test_y_all, \"predicted\": preds_all, \"nr_events\": nr_events_all})\n",
    "                for nr_events, group in dt_results.groupby(\"nr_events\"):\n",
    "                    if len(set(group.actual)) < 2:\n",
    "                        fout.write(\"%s;%s;%s;%s;%s;%s;%s\\n\"%(dataset_name, method_name, cls_method, nr_events,-1, \"auc\", np.nan))\n",
    "                    else:\n",
    "                        fout.write(\"%s;%s;%s;%s;%s;%s;%s\\n\"%(dataset_name, method_name, cls_method, nr_events,-1, \"auc\", roc_auc_score(group.actual, group.predicted)))\n",
    "                fout.write(\"%s;%s;%s;%s;%s;%s\\n\"%(dataset_name, method_name, cls_method,-1, \"auc\", roc_auc_score(dt_results.actual, dt_results.predicted)))\n",
    "                fout.write(\"%s;%s;%s;%s;%s;%s\\n\"%(\"event columns:\",len_event,\"  case columns:\", len_case, \"  control columns:\", len_control))\n",
    "                fout.write(\"%s;%s;%s;%s;%s;%s\\n\"%(\"parsimony event\",parsimony_event,\"parsimony case\", parsimony_case, \"parsimony control\", parsimony_control))\n",
    "                fout.write(\"%s;%s;%s;%s;%s;%s\\n\"%(\"FC event\",FC_event,\"FC case\", FC_case, \"FC control\", FC_control))\n",
    "                fout.write(\"%s;%s\\n\"%(\"monotonicity\", monotonicity_value))\n",
    "            \"\"\"\n",
    "            with open(outfile, \"w\") as f:\n",
    "              f.write(str('auc_total;'))\n",
    "              f.write(str(auc_total))\n",
    "              f.write(str('len_event;'))\n",
    "              f.write(str(len_event))\n",
    "              f.write(str('len_case;'))\n",
    "              f.write(str(len_case))\n",
    "              f.write(str('len_control;'))\n",
    "              f.write(str(len_control))\n",
    "              f.write(str('parsimony event;'))\n",
    "              f.write(str(parsimony_event))\n",
    "              f.write(str('parsimony case;'))\n",
    "              f.write(str(parsimony_case))\n",
    "              f.write(str('parsimony control;'))\n",
    "              f.write(str(parsimony_control))\n",
    "              f.write(str('functional complexity event;'))\n",
    "              f.write(str(FC_event))\n",
    "              f.write(str('functional complexity case;'))\n",
    "              f.write(str(FC_case))\n",
    "              f.write(str('functional complexity control;'))\n",
    "              f.write(str(FC_control))\n",
    "              f.write(str('monotonicity'))\n",
    "              f.write(str(monotonicity_value))\n",
    "              f.write(str('feature_importances_attention'))\n",
    "              f.write(str(attention_event))\n",
    "              f.write(str(';'))\n",
    "              f.write(str(attention_case))\n",
    "              f.write(str(';'))\n",
    "              f.write(str(attention_control))\n",
    "              f.write(str('feature_importances_perturbation'))\n",
    "              f.write(str(perturbation_event))\n",
    "              f.write(str(';'))\n",
    "              f.write(str(perturbation_case))\n",
    "              f.write(str(';'))\n",
    "              f.write(str(perturbation_control))\n",
    "            \n",
    "          \"\"\"\n",
    "            files.download(outfile)\n"
   ]
  },
  {
   "cell_type": "code",
   "execution_count": null,
   "metadata": {
    "id": "4y86PNWo_a5B"
   },
   "outputs": [],
   "source": []
  },
  {
   "cell_type": "code",
   "execution_count": null,
   "metadata": {
    "id": "4vOo9wnWbwc8"
   },
   "outputs": [],
   "source": []
  }
 ],
 "metadata": {
  "accelerator": "GPU",
  "colab": {
   "collapsed_sections": [
    "4SGhW_-Gygr-",
    "UMxd6y3fIACe",
    "v0yRQ_ZSMaFG",
    "yDqFdSCNzg87",
    "iSXBB6FWOyRN",
    "i00WpG-jxewE",
    "t6qDWGGTxptx",
    "3m4jrc3axxDj",
    "vTmgzrV9x5vk"
   ],
   "machine_shape": "hm",
   "name": "Experiments_DL (GC).ipynb",
   "provenance": [
    {
     "file_id": "1xVEDFKM5kGpsOGGOiF2LcT2I6uTlp38J",
     "timestamp": 1640767980582
    },
    {
     "file_id": "1ifDBBsMYqN51m5Lm-JvSWmcuoVu9AGU3",
     "timestamp": 1638807074915
    }
   ]
  },
  "kernelspec": {
   "display_name": "Python 3",
   "language": "python",
   "name": "python3"
  },
  "language_info": {
   "codemirror_mode": {
    "name": "ipython",
    "version": 3
   },
   "file_extension": ".py",
   "mimetype": "text/x-python",
   "name": "python",
   "nbconvert_exporter": "python",
   "pygments_lexer": "ipython3",
   "version": "3.10.4"
  },
  "toc": {
   "base_numbering": 1,
   "nav_menu": {},
   "number_sections": true,
   "sideBar": true,
   "skip_h1_title": false,
   "title_cell": "Table of Contents",
   "title_sidebar": "Contents",
   "toc_cell": false,
   "toc_position": {},
   "toc_section_display": true,
   "toc_window_display": false
  }
 },
 "nbformat": 4,
 "nbformat_minor": 1
}
